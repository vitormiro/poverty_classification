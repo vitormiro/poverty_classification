{
 "cells": [
  {
   "cell_type": "markdown",
   "id": "fa11422b-8085-4be2-a137-ed45a93b9ea2",
   "metadata": {},
   "source": [
    "# Random Florests"
   ]
  },
  {
   "cell_type": "markdown",
   "id": "34125374-7bef-4fc6-821f-288706ab836e",
   "metadata": {},
   "source": [
    "## Biblioteca"
   ]
  },
  {
   "cell_type": "code",
   "execution_count": 6,
   "id": "9dd7335d-c206-4902-ab12-73f32dd607c5",
   "metadata": {},
   "outputs": [],
   "source": [
    "import pandas as pd \n",
    "import numpy as np \n",
    "import scipy \n",
    "import _pickle as cPickle \n",
    "import matplotlib.pyplot as plt \n",
    "import seaborn as sns\n",
    "from sklearn.ensemble import RandomForestClassifier\n",
    "from sklearn.model_selection import GridSearchCV\n",
    "from sklearn.metrics import classification_report,confusion_matrix,mean_squared_error,roc_curve,accuracy_score,roc_auc_score# Metricas de performance \n",
    "import warnings\n",
    "warnings.filterwarnings('ignore')"
   ]
  },
  {
   "cell_type": "markdown",
   "id": "61500cf2-b263-40d5-8778-4c47dd27b84b",
   "metadata": {},
   "source": [
    "## Importando dados"
   ]
  },
  {
   "cell_type": "code",
   "execution_count": 8,
   "id": "2bc599ea-6269-442f-9097-7f5cf7589561",
   "metadata": {},
   "outputs": [],
   "source": [
    "with open(r\"poverty.pickle\", \"rb\") as input_file:\n",
    "    data = cPickle.load(input_file)"
   ]
  },
  {
   "cell_type": "markdown",
   "id": "39b4bc73-362b-43bf-87a4-a404f38ebcdf",
   "metadata": {},
   "source": [
    "### Importando os conjuntos de treino e teste"
   ]
  },
  {
   "cell_type": "code",
   "execution_count": 9,
   "id": "c807bbaa-8584-4569-8a36-ec860317198b",
   "metadata": {},
   "outputs": [],
   "source": [
    "X_train,X_test,y_train,y_test = data['X_train'],data['X_test'],data['y_train'],data['y_test']"
   ]
  },
  {
   "cell_type": "markdown",
   "id": "d63b4c43-37ad-4f55-930c-0071d66240f6",
   "metadata": {},
   "source": [
    "## Classificador Logistico"
   ]
  },
  {
   "cell_type": "markdown",
   "id": "ac790b43-4d81-4991-b40a-d9b7efe03acd",
   "metadata": {},
   "source": [
    "### Modelo"
   ]
  },
  {
   "cell_type": "code",
   "execution_count": 12,
   "id": "f2e01490-d6bf-4ce7-9275-d5e01a73c5f3",
   "metadata": {},
   "outputs": [],
   "source": [
    "model = RandomForestClassifier()"
   ]
  },
  {
   "cell_type": "markdown",
   "id": "b3923bb0-1e5b-4884-9344-0da64ee511aa",
   "metadata": {},
   "source": [
    "### Definindo Hiperparametros"
   ]
  },
  {
   "cell_type": "code",
   "execution_count": 19,
   "id": "2bf6d010-21a9-4112-98c2-92dbb1d91e6e",
   "metadata": {},
   "outputs": [],
   "source": [
    "param_grid = {'criterion':['gini','entropy'],\n",
    "              'min_samples_split':[2,4,6,8,10,20,40,60,100], \n",
    "              'min_samples_leaf':[1,3,5,7,9],\n",
    "              'max_features':['auto','sqrt','log2','None'],}\n"
   ]
  },
  {
   "cell_type": "markdown",
   "id": "c9c43c6a-971d-484a-aa9a-09c134433148",
   "metadata": {},
   "source": [
    "### Aplicando Cross Validation"
   ]
  },
  {
   "cell_type": "code",
   "execution_count": null,
   "id": "2da597e4-58c0-4fe2-8675-2b84f1ccdb4d",
   "metadata": {},
   "outputs": [],
   "source": [
    "Random_cv = GridSearchCV(model,param_grid,cv=5)\n",
    "Random_cv.fit(X_train, y_train)\n",
    "model = Random_cv.best_estimator_"
   ]
  },
  {
   "cell_type": "code",
   "execution_count": null,
   "id": "c00af9b3-8dc6-4d12-a57c-7d2a6210fc10",
   "metadata": {},
   "outputs": [],
   "source": [
    "print(f\"Tuned Logistic Regression Parameter: {logit_cv.best_params_}\")\n",
    "print(f\"Tuned Logistic Regression Accuracy: {logit_cv.best_score_}\")"
   ]
  },
  {
   "cell_type": "markdown",
   "id": "d47a822a-7271-485c-bb92-1a0f18356876",
   "metadata": {},
   "source": [
    "### Ajuste do Modelo"
   ]
  },
  {
   "cell_type": "code",
   "execution_count": null,
   "id": "5faf4688-4f60-4d11-948c-074ab3006c05",
   "metadata": {},
   "outputs": [],
   "source": [
    "model.fit(X_train, y_train)"
   ]
  },
  {
   "cell_type": "markdown",
   "id": "ba24417a-7987-445c-a3be-f20c3b2ed02a",
   "metadata": {},
   "source": [
    "### Previsão "
   ]
  },
  {
   "cell_type": "code",
   "execution_count": null,
   "id": "f8f44a8a-da0f-412c-bd68-60dd44f5590e",
   "metadata": {},
   "outputs": [],
   "source": [
    "predicted_prob = model.predict_proba(X_test)[:,1]\n",
    "predicted = model.predict(X_test)"
   ]
  },
  {
   "cell_type": "markdown",
   "id": "874c9b08-a8b6-43f1-be0e-85968c675dd8",
   "metadata": {},
   "source": [
    "### Curva ROC"
   ]
  },
  {
   "cell_type": "code",
   "execution_count": null,
   "id": "eed16b69-a680-4fae-8c85-d5135f62b0ad",
   "metadata": {},
   "outputs": [],
   "source": [
    "fpr, tpr, threshold = roc_curve(y_test, predicted)"
   ]
  },
  {
   "cell_type": "markdown",
   "id": "f1fb3b76-9529-473d-b363-6d00bd9664ee",
   "metadata": {},
   "source": [
    "## Avaliação do Modelo"
   ]
  },
  {
   "cell_type": "markdown",
   "id": "86836545-9948-4d77-a1a7-0270b91447a5",
   "metadata": {},
   "source": [
    "### Acuracia e Auc "
   ]
  },
  {
   "cell_type": "code",
   "execution_count": null,
   "id": "8bf749f1-f1b7-4245-a9ef-87f983389a18",
   "metadata": {},
   "outputs": [],
   "source": [
    "accuracy = accuracy_score(y_test, predicted)\n",
    "auc = roc_auc_score(y_test, predicted_prob)"
   ]
  }
 ],
 "metadata": {
  "kernelspec": {
   "display_name": "Python 3 (ipykernel)",
   "language": "python",
   "name": "python3"
  },
  "language_info": {
   "codemirror_mode": {
    "name": "ipython",
    "version": 3
   },
   "file_extension": ".py",
   "mimetype": "text/x-python",
   "name": "python",
   "nbconvert_exporter": "python",
   "pygments_lexer": "ipython3",
   "version": "3.10.1"
  }
 },
 "nbformat": 4,
 "nbformat_minor": 5
}
