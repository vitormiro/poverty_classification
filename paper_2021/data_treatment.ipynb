{
 "cells": [
  {
   "cell_type": "markdown",
   "id": "3dd8c19f-c36b-4557-aa6a-0e87e57ea2f0",
   "metadata": {},
   "source": [
    "# Tratamento dos dados "
   ]
  },
  {
   "cell_type": "markdown",
   "id": "41821a2b-e875-4a0a-8c1a-2789a69f1f7a",
   "metadata": {},
   "source": [
    "## Bibliotecas"
   ]
  },
  {
   "cell_type": "code",
   "execution_count": 1,
   "id": "fbb21e57-2a0f-4763-a7f2-9ffda1f6da6e",
   "metadata": {},
   "outputs": [],
   "source": [
    "import pandas as pd \n",
    "import numpy as np \n",
    "import scipy \n",
    "import _pickle as cPickle\n",
    "from sklearn import model_selection, preprocessing, feature_selection, ensemble, linear_model, metrics, decomposition"
   ]
  },
  {
   "cell_type": "markdown",
   "id": "3f5c7301-d525-4583-b5f7-0d8af0b933cd",
   "metadata": {},
   "source": [
    "## Importando os dados"
   ]
  },
  {
   "cell_type": "code",
   "execution_count": 2,
   "id": "7bc3dcee-df95-4bcc-96a3-13592d2fa6f5",
   "metadata": {},
   "outputs": [],
   "source": [
    "df = pd.read_csv('pov19ce.csv')"
   ]
  },
  {
   "cell_type": "markdown",
   "id": "794b8451-a534-41b2-bfb3-56dc07261a2b",
   "metadata": {},
   "source": [
    "## Limpando os dados"
   ]
  },
  {
   "cell_type": "markdown",
   "id": "b495a206-d68c-4e85-bf79-53ca8f18c13a",
   "metadata": {},
   "source": [
    "### Excluindo colunas"
   ]
  },
  {
   "cell_type": "code",
   "execution_count": 3,
   "id": "9bb670bf-91d3-4664-b384-e51c2c7ca4ef",
   "metadata": {},
   "outputs": [],
   "source": [
    "df = df.drop(['Unnamed: 0', 'hh_id', 'pobre_ex'], axis = 1)"
   ]
  },
  {
   "cell_type": "markdown",
   "id": "2e24982a-570f-4d9b-ba16-3b6a265297d4",
   "metadata": {},
   "source": [
    "### Eliminar os missings values"
   ]
  },
  {
   "cell_type": "code",
   "execution_count": 4,
   "id": "e58b0bbd-435f-4b2a-a114-77f05dfa47b1",
   "metadata": {},
   "outputs": [],
   "source": [
    "df = df.dropna(subset=['esgoto_ad'])"
   ]
  },
  {
   "cell_type": "markdown",
   "id": "d80f7b2d-485f-42ff-8243-d526ec6071bc",
   "metadata": {},
   "source": [
    "### Definindo listas de nomes"
   ]
  },
  {
   "cell_type": "markdown",
   "id": "eb6e6aef-9ffc-4a1d-a99f-a3703724527a",
   "metadata": {},
   "source": [
    "#### Definição de uma lista com nomes das variáveis categoricas"
   ]
  },
  {
   "cell_type": "code",
   "execution_count": 5,
   "id": "1c6228ae-c7b1-4662-be38-dc49b7301134",
   "metadata": {},
   "outputs": [],
   "source": [
    "cat_vars = ['area', 'casal', 'genero', 'raca', 'escolaridade', 'atividade', 'aposentadoria', \n",
    "            'dom_tipo', 'agua_adeq', 'esgoto_ad', 'banheiro', 'paredes', 'casa_tipo', \n",
    "            'geladeira', 'maquina_lavar', 'tv', 'computador', 'internet', 'carro', 'moto']"
   ]
  },
  {
   "cell_type": "markdown",
   "id": "15a109d3-ad5e-47e2-9065-92021c9d6db7",
   "metadata": {},
   "source": [
    "#### Definição de uma lista com nomes das variáveis numéricas\n"
   ]
  },
  {
   "cell_type": "code",
   "execution_count": 6,
   "id": "7a925384-cd88-4166-8167-bdd5b982e7b6",
   "metadata": {},
   "outputs": [],
   "source": [
    "num_vars = ['idade', 'n_moradores', 'n_criancas', 'n_adultos', 'densidade', 'fone_pc']"
   ]
  },
  {
   "cell_type": "markdown",
   "id": "040fd1a2-0434-4bfd-833e-d81aa4a503c2",
   "metadata": {},
   "source": [
    "### Filtrando colunas \n"
   ]
  },
  {
   "cell_type": "code",
   "execution_count": 7,
   "id": "667e6845-f94e-4594-b736-922a3baeb18a",
   "metadata": {},
   "outputs": [],
   "source": [
    "df = df[['pobre', 'area', 'casal', 'genero', 'raca', 'escolaridade', 'atividade', 'aposentadoria', \n",
    "                   'dom_tipo', 'agua_adeq', 'esgoto_ad', 'banheiro', 'paredes', 'casa_tipo', \n",
    "                   'geladeira', 'maquina_lavar', 'tv', 'computador', 'internet', 'carro', 'moto', \n",
    "                   'idade', 'n_moradores', 'n_criancas', 'n_adultos', 'densidade', 'fone_pc']]"
   ]
  },
  {
   "cell_type": "markdown",
   "id": "3754384b-1f17-4b82-98f1-9350d54f0121",
   "metadata": {},
   "source": [
    "### Criando dummy para a variavel e resposta"
   ]
  },
  {
   "cell_type": "code",
   "execution_count": 8,
   "id": "af11715a-fcd8-4e85-b2c7-cb273632570c",
   "metadata": {},
   "outputs": [],
   "source": [
    "df['pobre'] = pd.get_dummies(df.pobre, drop_first=True)\n"
   ]
  },
  {
   "cell_type": "markdown",
   "id": "ed2ed17a-5705-4513-bccf-0d7ff1c99655",
   "metadata": {},
   "source": [
    "## Exportando os dados Limpos "
   ]
  },
  {
   "cell_type": "code",
   "execution_count": 9,
   "id": "e401c2fc-7c49-421c-949e-414f5a38cf02",
   "metadata": {},
   "outputs": [],
   "source": [
    "df.to_csv(\"pov19ce_clean.csv\")"
   ]
  },
  {
   "cell_type": "markdown",
   "id": "bc754614-feb7-49aa-a874-518b03691855",
   "metadata": {},
   "source": [
    "## Pre Tratamento "
   ]
  },
  {
   "cell_type": "markdown",
   "id": "96d202f0-16c8-4ce6-be58-367ca5391044",
   "metadata": {},
   "source": [
    "### Divisão da amostra "
   ]
  },
  {
   "cell_type": "code",
   "execution_count": 10,
   "id": "57ba4481-17ca-43ba-aac6-40930e8bacc3",
   "metadata": {},
   "outputs": [],
   "source": [
    "df_train, df_test = model_selection.train_test_split(df, test_size=0.25, stratify= df.pobre, random_state=1)"
   ]
  },
  {
   "cell_type": "markdown",
   "id": "7219145b-f64a-452a-a602-8db32b4032a2",
   "metadata": {},
   "source": [
    "### Ajustar os dados de treino"
   ]
  },
  {
   "cell_type": "code",
   "execution_count": 11,
   "id": "ee1e4bf2-8f74-401d-b757-6bbea23faa70",
   "metadata": {},
   "outputs": [],
   "source": [
    "X_train = df_train.drop('pobre', axis=1)\n",
    "y_train = df_train['pobre']\n",
    "X_test = df_test.drop('pobre',axis=1)\n",
    "y_test = df_test['pobre']"
   ]
  },
  {
   "cell_type": "markdown",
   "id": "f54143da-6b43-4e3b-acfc-ba3c71e4ea19",
   "metadata": {},
   "source": [
    "### Normalizar os dados "
   ]
  },
  {
   "cell_type": "code",
   "execution_count": 12,
   "id": "1c4d299b-5034-4f3f-a1b8-b5ceb10dda81",
   "metadata": {},
   "outputs": [
    {
     "data": {
      "text/html": [
       "<div>\n",
       "<style scoped>\n",
       "    .dataframe tbody tr th:only-of-type {\n",
       "        vertical-align: middle;\n",
       "    }\n",
       "\n",
       "    .dataframe tbody tr th {\n",
       "        vertical-align: top;\n",
       "    }\n",
       "\n",
       "    .dataframe thead th {\n",
       "        text-align: right;\n",
       "    }\n",
       "</style>\n",
       "<table border=\"1\" class=\"dataframe\">\n",
       "  <thead>\n",
       "    <tr style=\"text-align: right;\">\n",
       "      <th></th>\n",
       "      <th>area</th>\n",
       "      <th>casal</th>\n",
       "      <th>genero</th>\n",
       "      <th>raca</th>\n",
       "      <th>escolaridade</th>\n",
       "      <th>atividade</th>\n",
       "      <th>aposentadoria</th>\n",
       "      <th>dom_tipo</th>\n",
       "      <th>agua_adeq</th>\n",
       "      <th>esgoto_ad</th>\n",
       "      <th>...</th>\n",
       "      <th>computador</th>\n",
       "      <th>internet</th>\n",
       "      <th>carro</th>\n",
       "      <th>moto</th>\n",
       "      <th>idade</th>\n",
       "      <th>n_moradores</th>\n",
       "      <th>n_criancas</th>\n",
       "      <th>n_adultos</th>\n",
       "      <th>densidade</th>\n",
       "      <th>fone_pc</th>\n",
       "    </tr>\n",
       "  </thead>\n",
       "  <tbody>\n",
       "    <tr>\n",
       "      <th>6882</th>\n",
       "      <td>urbano</td>\n",
       "      <td>casado</td>\n",
       "      <td>mulher</td>\n",
       "      <td>branco</td>\n",
       "      <td>fundam incompleto</td>\n",
       "      <td>ativo ocupado</td>\n",
       "      <td>nao</td>\n",
       "      <td>casa</td>\n",
       "      <td>inadequada</td>\n",
       "      <td>inadequado</td>\n",
       "      <td>...</td>\n",
       "      <td>nao</td>\n",
       "      <td>nao</td>\n",
       "      <td>nao</td>\n",
       "      <td>sim</td>\n",
       "      <td>46</td>\n",
       "      <td>6</td>\n",
       "      <td>0</td>\n",
       "      <td>6</td>\n",
       "      <td>1.200000</td>\n",
       "      <td>1.000000</td>\n",
       "    </tr>\n",
       "    <tr>\n",
       "      <th>220</th>\n",
       "      <td>urbano</td>\n",
       "      <td>solteiro</td>\n",
       "      <td>homem</td>\n",
       "      <td>preto ou pardo</td>\n",
       "      <td>medio completo</td>\n",
       "      <td>ativo ocupado</td>\n",
       "      <td>nao</td>\n",
       "      <td>apartamento</td>\n",
       "      <td>adequada</td>\n",
       "      <td>adequado</td>\n",
       "      <td>...</td>\n",
       "      <td>nao</td>\n",
       "      <td>sim</td>\n",
       "      <td>nao</td>\n",
       "      <td>nao</td>\n",
       "      <td>26</td>\n",
       "      <td>2</td>\n",
       "      <td>0</td>\n",
       "      <td>2</td>\n",
       "      <td>0.500000</td>\n",
       "      <td>1.000000</td>\n",
       "    </tr>\n",
       "    <tr>\n",
       "      <th>4717</th>\n",
       "      <td>rural</td>\n",
       "      <td>casado</td>\n",
       "      <td>homem</td>\n",
       "      <td>preto ou pardo</td>\n",
       "      <td>fundam incompleto</td>\n",
       "      <td>ativo ocupado</td>\n",
       "      <td>nao</td>\n",
       "      <td>casa</td>\n",
       "      <td>adequada</td>\n",
       "      <td>adequado</td>\n",
       "      <td>...</td>\n",
       "      <td>nao</td>\n",
       "      <td>nao</td>\n",
       "      <td>nao</td>\n",
       "      <td>sim</td>\n",
       "      <td>33</td>\n",
       "      <td>6</td>\n",
       "      <td>4</td>\n",
       "      <td>2</td>\n",
       "      <td>0.857143</td>\n",
       "      <td>0.500000</td>\n",
       "    </tr>\n",
       "    <tr>\n",
       "      <th>3694</th>\n",
       "      <td>rural</td>\n",
       "      <td>casado</td>\n",
       "      <td>homem</td>\n",
       "      <td>preto ou pardo</td>\n",
       "      <td>fundam incompleto</td>\n",
       "      <td>ativo ocupado</td>\n",
       "      <td>nao</td>\n",
       "      <td>casa</td>\n",
       "      <td>adequada</td>\n",
       "      <td>inadequado</td>\n",
       "      <td>...</td>\n",
       "      <td>nao</td>\n",
       "      <td>sim</td>\n",
       "      <td>nao</td>\n",
       "      <td>sim</td>\n",
       "      <td>54</td>\n",
       "      <td>4</td>\n",
       "      <td>1</td>\n",
       "      <td>3</td>\n",
       "      <td>0.800000</td>\n",
       "      <td>0.666667</td>\n",
       "    </tr>\n",
       "    <tr>\n",
       "      <th>5817</th>\n",
       "      <td>urbano</td>\n",
       "      <td>solteiro</td>\n",
       "      <td>mulher</td>\n",
       "      <td>preto ou pardo</td>\n",
       "      <td>fundam incompleto</td>\n",
       "      <td>inativo</td>\n",
       "      <td>sim</td>\n",
       "      <td>casa</td>\n",
       "      <td>adequada</td>\n",
       "      <td>inadequado</td>\n",
       "      <td>...</td>\n",
       "      <td>nao</td>\n",
       "      <td>sim</td>\n",
       "      <td>nao</td>\n",
       "      <td>nao</td>\n",
       "      <td>70</td>\n",
       "      <td>2</td>\n",
       "      <td>0</td>\n",
       "      <td>2</td>\n",
       "      <td>0.250000</td>\n",
       "      <td>0.500000</td>\n",
       "    </tr>\n",
       "    <tr>\n",
       "      <th>...</th>\n",
       "      <td>...</td>\n",
       "      <td>...</td>\n",
       "      <td>...</td>\n",
       "      <td>...</td>\n",
       "      <td>...</td>\n",
       "      <td>...</td>\n",
       "      <td>...</td>\n",
       "      <td>...</td>\n",
       "      <td>...</td>\n",
       "      <td>...</td>\n",
       "      <td>...</td>\n",
       "      <td>...</td>\n",
       "      <td>...</td>\n",
       "      <td>...</td>\n",
       "      <td>...</td>\n",
       "      <td>...</td>\n",
       "      <td>...</td>\n",
       "      <td>...</td>\n",
       "      <td>...</td>\n",
       "      <td>...</td>\n",
       "      <td>...</td>\n",
       "    </tr>\n",
       "    <tr>\n",
       "      <th>6354</th>\n",
       "      <td>rural</td>\n",
       "      <td>casado</td>\n",
       "      <td>homem</td>\n",
       "      <td>preto ou pardo</td>\n",
       "      <td>fundam incompleto</td>\n",
       "      <td>ativo ocupado</td>\n",
       "      <td>nao</td>\n",
       "      <td>casa</td>\n",
       "      <td>inadequada</td>\n",
       "      <td>adequado</td>\n",
       "      <td>...</td>\n",
       "      <td>sim</td>\n",
       "      <td>sim</td>\n",
       "      <td>sim</td>\n",
       "      <td>sim</td>\n",
       "      <td>33</td>\n",
       "      <td>5</td>\n",
       "      <td>2</td>\n",
       "      <td>4</td>\n",
       "      <td>1.000000</td>\n",
       "      <td>0.500000</td>\n",
       "    </tr>\n",
       "    <tr>\n",
       "      <th>3997</th>\n",
       "      <td>urbano</td>\n",
       "      <td>casado</td>\n",
       "      <td>mulher</td>\n",
       "      <td>preto ou pardo</td>\n",
       "      <td>fundam incompleto</td>\n",
       "      <td>ativo ocupado</td>\n",
       "      <td>nao</td>\n",
       "      <td>casa</td>\n",
       "      <td>adequada</td>\n",
       "      <td>inadequado</td>\n",
       "      <td>...</td>\n",
       "      <td>sim</td>\n",
       "      <td>sim</td>\n",
       "      <td>nao</td>\n",
       "      <td>nao</td>\n",
       "      <td>46</td>\n",
       "      <td>2</td>\n",
       "      <td>0</td>\n",
       "      <td>2</td>\n",
       "      <td>0.400000</td>\n",
       "      <td>1.000000</td>\n",
       "    </tr>\n",
       "    <tr>\n",
       "      <th>4177</th>\n",
       "      <td>urbano</td>\n",
       "      <td>solteiro</td>\n",
       "      <td>mulher</td>\n",
       "      <td>preto ou pardo</td>\n",
       "      <td>medio completo</td>\n",
       "      <td>ativo ocupado</td>\n",
       "      <td>nao</td>\n",
       "      <td>casa</td>\n",
       "      <td>inadequada</td>\n",
       "      <td>inadequado</td>\n",
       "      <td>...</td>\n",
       "      <td>nao</td>\n",
       "      <td>sim</td>\n",
       "      <td>sim</td>\n",
       "      <td>nao</td>\n",
       "      <td>33</td>\n",
       "      <td>3</td>\n",
       "      <td>2</td>\n",
       "      <td>1</td>\n",
       "      <td>0.750000</td>\n",
       "      <td>3.000000</td>\n",
       "    </tr>\n",
       "    <tr>\n",
       "      <th>1055</th>\n",
       "      <td>urbano</td>\n",
       "      <td>casado</td>\n",
       "      <td>mulher</td>\n",
       "      <td>preto ou pardo</td>\n",
       "      <td>medio completo</td>\n",
       "      <td>ativo ocupado</td>\n",
       "      <td>nao</td>\n",
       "      <td>apartamento</td>\n",
       "      <td>adequada</td>\n",
       "      <td>adequado</td>\n",
       "      <td>...</td>\n",
       "      <td>nao</td>\n",
       "      <td>nao</td>\n",
       "      <td>nao</td>\n",
       "      <td>nao</td>\n",
       "      <td>25</td>\n",
       "      <td>2</td>\n",
       "      <td>0</td>\n",
       "      <td>2</td>\n",
       "      <td>1.000000</td>\n",
       "      <td>1.000000</td>\n",
       "    </tr>\n",
       "    <tr>\n",
       "      <th>5316</th>\n",
       "      <td>urbano</td>\n",
       "      <td>solteiro</td>\n",
       "      <td>homem</td>\n",
       "      <td>preto ou pardo</td>\n",
       "      <td>fundam incompleto</td>\n",
       "      <td>ativo ocupado</td>\n",
       "      <td>sim</td>\n",
       "      <td>apartamento</td>\n",
       "      <td>inadequada</td>\n",
       "      <td>inadequado</td>\n",
       "      <td>...</td>\n",
       "      <td>sim</td>\n",
       "      <td>sim</td>\n",
       "      <td>nao</td>\n",
       "      <td>sim</td>\n",
       "      <td>62</td>\n",
       "      <td>1</td>\n",
       "      <td>0</td>\n",
       "      <td>1</td>\n",
       "      <td>0.200000</td>\n",
       "      <td>1.000000</td>\n",
       "    </tr>\n",
       "  </tbody>\n",
       "</table>\n",
       "<p>5511 rows × 26 columns</p>\n",
       "</div>"
      ],
      "text/plain": [
       "        area     casal  genero            raca       escolaridade  \\\n",
       "6882  urbano    casado  mulher          branco  fundam incompleto   \n",
       "220   urbano  solteiro   homem  preto ou pardo     medio completo   \n",
       "4717   rural    casado   homem  preto ou pardo  fundam incompleto   \n",
       "3694   rural    casado   homem  preto ou pardo  fundam incompleto   \n",
       "5817  urbano  solteiro  mulher  preto ou pardo  fundam incompleto   \n",
       "...      ...       ...     ...             ...                ...   \n",
       "6354   rural    casado   homem  preto ou pardo  fundam incompleto   \n",
       "3997  urbano    casado  mulher  preto ou pardo  fundam incompleto   \n",
       "4177  urbano  solteiro  mulher  preto ou pardo     medio completo   \n",
       "1055  urbano    casado  mulher  preto ou pardo     medio completo   \n",
       "5316  urbano  solteiro   homem  preto ou pardo  fundam incompleto   \n",
       "\n",
       "          atividade aposentadoria     dom_tipo   agua_adeq   esgoto_ad  ...  \\\n",
       "6882  ativo ocupado           nao         casa  inadequada  inadequado  ...   \n",
       "220   ativo ocupado           nao  apartamento    adequada    adequado  ...   \n",
       "4717  ativo ocupado           nao         casa    adequada    adequado  ...   \n",
       "3694  ativo ocupado           nao         casa    adequada  inadequado  ...   \n",
       "5817        inativo           sim         casa    adequada  inadequado  ...   \n",
       "...             ...           ...          ...         ...         ...  ...   \n",
       "6354  ativo ocupado           nao         casa  inadequada    adequado  ...   \n",
       "3997  ativo ocupado           nao         casa    adequada  inadequado  ...   \n",
       "4177  ativo ocupado           nao         casa  inadequada  inadequado  ...   \n",
       "1055  ativo ocupado           nao  apartamento    adequada    adequado  ...   \n",
       "5316  ativo ocupado           sim  apartamento  inadequada  inadequado  ...   \n",
       "\n",
       "     computador internet carro moto idade n_moradores n_criancas n_adultos  \\\n",
       "6882        nao      nao   nao  sim    46           6          0         6   \n",
       "220         nao      sim   nao  nao    26           2          0         2   \n",
       "4717        nao      nao   nao  sim    33           6          4         2   \n",
       "3694        nao      sim   nao  sim    54           4          1         3   \n",
       "5817        nao      sim   nao  nao    70           2          0         2   \n",
       "...         ...      ...   ...  ...   ...         ...        ...       ...   \n",
       "6354        sim      sim   sim  sim    33           5          2         4   \n",
       "3997        sim      sim   nao  nao    46           2          0         2   \n",
       "4177        nao      sim   sim  nao    33           3          2         1   \n",
       "1055        nao      nao   nao  nao    25           2          0         2   \n",
       "5316        sim      sim   nao  sim    62           1          0         1   \n",
       "\n",
       "     densidade   fone_pc  \n",
       "6882  1.200000  1.000000  \n",
       "220   0.500000  1.000000  \n",
       "4717  0.857143  0.500000  \n",
       "3694  0.800000  0.666667  \n",
       "5817  0.250000  0.500000  \n",
       "...        ...       ...  \n",
       "6354  1.000000  0.500000  \n",
       "3997  0.400000  1.000000  \n",
       "4177  0.750000  3.000000  \n",
       "1055  1.000000  1.000000  \n",
       "5316  0.200000  1.000000  \n",
       "\n",
       "[5511 rows x 26 columns]"
      ]
     },
     "execution_count": 12,
     "metadata": {},
     "output_type": "execute_result"
    }
   ],
   "source": [
    "X_train"
   ]
  },
  {
   "cell_type": "code",
   "execution_count": 13,
   "id": "4be313aa-eab1-4cda-a44c-8c4289f0513b",
   "metadata": {},
   "outputs": [],
   "source": [
    "scaler = preprocessing.MinMaxScaler(feature_range=(0,1))\n",
    "X_train[num_vars] = scaler.fit_transform(X_train[num_vars])\n",
    "X_test[num_vars] = scaler.fit_transform(X_test[num_vars])\n"
   ]
  },
  {
   "cell_type": "markdown",
   "id": "c5c617c5-8cf3-45cd-b441-806c0b80e4da",
   "metadata": {},
   "source": [
    "### Criar dummies para variáveis categóricas"
   ]
  },
  {
   "cell_type": "code",
   "execution_count": 14,
   "id": "7647d7b9-938d-4d24-93f8-b2a9d175d8c7",
   "metadata": {
    "tags": []
   },
   "outputs": [],
   "source": [
    "cat_vars = ['area', 'casal', 'genero', 'raca', 'escolaridade', 'atividade', 'aposentadoria', \n",
    "            'dom_tipo', 'agua_adeq', 'esgoto_ad', 'banheiro', 'paredes', 'casa_tipo', \n",
    "            'geladeira', 'maquina_lavar', 'tv', 'computador', 'internet', 'carro', 'moto']\n",
    "X_train = pd.get_dummies(data = X_train, columns = cat_vars)\n",
    "X_test = pd.get_dummies(data = X_test, columns = cat_vars)"
   ]
  },
  {
   "cell_type": "markdown",
   "id": "e29facd8-edb5-46b1-823c-0dfd209f3b8b",
   "metadata": {},
   "source": [
    "## Selecionando os Atributos"
   ]
  },
  {
   "cell_type": "markdown",
   "id": "2108a13f-05f8-474e-80bd-9cc797107010",
   "metadata": {},
   "source": [
    "### Definir atributos e variável de resposta no conjunto de treino"
   ]
  },
  {
   "cell_type": "code",
   "execution_count": 15,
   "id": "5df2b9b4-6674-4c26-b7c8-348688dcfa2c",
   "metadata": {},
   "outputs": [],
   "source": [
    "X = X_train.values\n",
    "y = df_train['pobre'].values\n",
    "feature_names = X_train.columns "
   ]
  },
  {
   "cell_type": "markdown",
   "id": "94e6ba0d-9a4d-4129-af2c-78caae913d86",
   "metadata": {},
   "source": [
    "### Teste Anova"
   ]
  },
  {
   "cell_type": "code",
   "execution_count": 16,
   "id": "0123298f-bd67-427e-b29b-a4da8e176488",
   "metadata": {},
   "outputs": [],
   "source": [
    "selector = feature_selection.SelectKBest(score_func=  \n",
    "               feature_selection.f_classif, k=15).fit(X,y)\n",
    "anova_selected_features = feature_names[selector.get_support()]\n"
   ]
  },
  {
   "cell_type": "markdown",
   "id": "dade0cef-7b62-4e0e-95bd-e76c9c309211",
   "metadata": {},
   "source": [
    "### Lasso"
   ]
  },
  {
   "cell_type": "code",
   "execution_count": 17,
   "id": "1887e7ef-2f77-4562-a0b0-f5f1379316ff",
   "metadata": {},
   "outputs": [],
   "source": [
    "selector = feature_selection.SelectFromModel(estimator= \n",
    "              linear_model.LogisticRegression(C=1, penalty=\"l1\", \n",
    "              solver='liblinear'), max_features=15).fit(X,y)\n",
    "lasso_selected_features = feature_names[selector.get_support()]"
   ]
  },
  {
   "cell_type": "markdown",
   "id": "c9231e0a-7741-488e-9594-b3f64a0579e9",
   "metadata": {},
   "source": [
    "### Relevância de atributos "
   ]
  },
  {
   "cell_type": "code",
   "execution_count": 18,
   "id": "1c8914d3-05dc-4008-9b16-628958e157f6",
   "metadata": {},
   "outputs": [],
   "source": [
    "feature_names = X_train.columns.tolist()"
   ]
  },
  {
   "cell_type": "markdown",
   "id": "e8f3604d-a67f-43ef-ae88-421d0e2acecb",
   "metadata": {},
   "source": [
    "### Importância dos atributos"
   ]
  },
  {
   "cell_type": "code",
   "execution_count": 19,
   "id": "eb964004-06cf-48ba-a8ec-2753b90fdd28",
   "metadata": {},
   "outputs": [],
   "source": [
    "model = ensemble.RandomForestClassifier(n_estimators=100,\n",
    "                      criterion=\"entropy\", random_state=0)\n",
    "model.fit(X,y)\n",
    "importances = model.feature_importances_"
   ]
  },
  {
   "cell_type": "code",
   "execution_count": 20,
   "id": "93702640-4411-41d2-b183-c1c7236b6d7c",
   "metadata": {},
   "outputs": [],
   "source": [
    "df_importances = pd.DataFrame({\"IMPORTANCE\":importances, \"VARIABLE\":feature_names}).sort_values(\"IMPORTANCE\", ascending=False)\n",
    "df_importances['cumsum'] = df_importances['IMPORTANCE'].cumsum(axis=0)\n",
    "df_importances = df_importances.set_index(\"VARIABLE\")"
   ]
  },
  {
   "cell_type": "markdown",
   "id": "fa2b0642-f124-4a96-afb4-9afb9b84bb3c",
   "metadata": {},
   "source": [
    "## Exportando os dataframes tratados"
   ]
  },
  {
   "cell_type": "markdown",
   "id": "ce58caaa-393b-40a3-a03e-e239c3281538",
   "metadata": {},
   "source": [
    "### Criando dicionario com valores exportados"
   ]
  },
  {
   "cell_type": "code",
   "execution_count": 21,
   "id": "c0ea0383-8910-487e-b281-d2f74b1b1125",
   "metadata": {},
   "outputs": [],
   "source": [
    "output = {\n",
    "    'X_train':X_train,\n",
    "    'X_test':X_test,\n",
    "    'y_train':y_train,\n",
    "    'y_test':y_test,\n",
    "    'dataframe':df,\n",
    "    'Anova_features':anova_selected_features,\n",
    "    'Lasso_features':lasso_selected_features,\n",
    "    'Random_Forest':model,\n",
    "    'Importances':df_importances\n",
    "}"
   ]
  },
  {
   "cell_type": "markdown",
   "id": "3fb28a90-3c78-48cb-bc03-8ee828542631",
   "metadata": {},
   "source": [
    "### Exportando os outputs"
   ]
  },
  {
   "cell_type": "code",
   "execution_count": 22,
   "id": "554e5b1c-1e80-4880-a2cf-918ce0ddbbca",
   "metadata": {},
   "outputs": [],
   "source": [
    "with open(r\"poverty.pickle\", \"wb\") as output_file:\n",
    "   ...:     cPickle.dump(output, output_file)"
   ]
  }
 ],
 "metadata": {
  "kernelspec": {
   "display_name": "Python 3 (ipykernel)",
   "language": "python",
   "name": "python3"
  },
  "language_info": {
   "codemirror_mode": {
    "name": "ipython",
    "version": 3
   },
   "file_extension": ".py",
   "mimetype": "text/x-python",
   "name": "python",
   "nbconvert_exporter": "python",
   "pygments_lexer": "ipython3",
   "version": "3.10.1"
  }
 },
 "nbformat": 4,
 "nbformat_minor": 5
}
