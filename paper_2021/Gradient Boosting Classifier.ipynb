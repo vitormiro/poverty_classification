{
 "cells": [
  {
   "cell_type": "markdown",
   "id": "bf9763f6-cecc-409e-bf10-2ccfa944c6bc",
   "metadata": {},
   "source": [
    "# Gradient Boosting Classifier"
   ]
  },
  {
   "cell_type": "markdown",
   "id": "efae819e-c99a-46b4-b1fb-ae3516fef507",
   "metadata": {},
   "source": [
    "## Bibliotecas"
   ]
  },
  {
   "cell_type": "code",
   "execution_count": 7,
   "id": "96a37cbb-4371-417a-9ef6-4950f15ed3a8",
   "metadata": {},
   "outputs": [],
   "source": [
    "import pandas as pd \n",
    "import numpy as np \n",
    "import scipy \n",
    "import _pickle as cPickle\n",
    "import matplotlib.pyplot as plt \n",
    "import seaborn as sns \n",
    "from sklearn import model_selection, preprocessing, feature_selection, ensemble, linear_model, metrics, decomposition"
   ]
  },
  {
   "cell_type": "markdown",
   "id": "c825f4fb-1034-489f-873d-6f81d980cb3b",
   "metadata": {},
   "source": [
    "## Importando dados "
   ]
  },
  {
   "cell_type": "code",
   "execution_count": 11,
   "id": "1b491f7a-9703-46e0-8e15-ea5e313a17a1",
   "metadata": {},
   "outputs": [],
   "source": [
    "with open(r\"poverty.pickle\", \"rb\") as input_file:\n",
    "    data = cPickle.load(input_file)"
   ]
  },
  {
   "cell_type": "markdown",
   "id": "03a5e93d-b97f-49d9-bd1e-9c254c5698bf",
   "metadata": {},
   "source": [
    "### Importando os conjuntos de treino e teste"
   ]
  },
  {
   "cell_type": "code",
   "execution_count": 17,
   "id": "c50313ae-2b69-42bb-9ea2-b27134edf4df",
   "metadata": {},
   "outputs": [],
   "source": [
    "X_train,X_test,y_train,y_test = data['X_train'],data['X_test'],data['y_train'],data['y_test']"
   ]
  },
  {
   "cell_type": "markdown",
   "id": "18ab74b9-f8c4-48fc-8e0f-0dec3620728f",
   "metadata": {},
   "source": [
    "## Gradient Boosting Classifier"
   ]
  },
  {
   "cell_type": "markdown",
   "id": "6c9b05fa-ef4b-47f4-a297-4289c59f5767",
   "metadata": {},
   "source": [
    "### Modelo"
   ]
  },
  {
   "cell_type": "markdown",
   "id": "f20eb089-1395-462a-8cf1-a84eab427873",
   "metadata": {},
   "source": [
    "model = ensemble.GradientBoostingClassifier()"
   ]
  },
  {
   "cell_type": "markdown",
   "id": "4e98e2d2-d4f5-47fe-aa66-ac5138925a2b",
   "metadata": {},
   "source": [
    "### Definindo Hiperparametros"
   ]
  },
  {
   "cell_type": "code",
   "execution_count": 22,
   "id": "fec47bde-8c2e-4c04-a3c7-27197ad2ade8",
   "metadata": {},
   "outputs": [],
   "source": [
    "param_dic = {'learning_rate':[1, 0.1, 0.01, 0.001], \n",
    "             # fator de ponderação para as correções por novas árvores quando adicionadas ao modelo\n",
    "             'n_estimators':[100,250,500,750,1000,1250,1500], \n",
    "             # número de árvores adicionadas ao modelo\n",
    "             'max_depth':[2,3,4,5,6,7],\n",
    "             # profundidade máxima da árvore\n",
    "             'min_samples_split':[2,4,6,8,10,20,40,60,100], \n",
    "             # define o número mínimo de amostras para dividir\n",
    "             'min_samples_leaf':[1,3,5,7,9], \n",
    "             # o número mínimo de amostras para formar uma \"folha\"\n",
    "             'max_features':[2,3,4,5,6,7],\n",
    "             # raiz quadrada de atributos geralmente é um bom ponto de partida\n",
    "             'subsample':[0.7,0.75,0.8,0.85,0.9,0.95,1]}"
   ]
  },
  {
   "cell_type": "markdown",
   "id": "bc90c253-026d-4b0f-a68e-2491fc73dfda",
   "metadata": {},
   "source": [
    "### Aplicando Cross Validation"
   ]
  },
  {
   "cell_type": "code",
   "execution_count": null,
   "id": "ba386ed4-e619-4695-8f3c-4c511859d0a1",
   "metadata": {},
   "outputs": [],
   "source": [
    "random_search = model_selection.RandomizedSearchCV(model,param_distributions=param_dic,n_iter=100, scoring=\"accuracy\").fit(X_train, y_train)\n",
    "print(\"Best Model parameters:\", random_search.best_params_)\n",
    "print(\"Best Model mean accuracy:\", random_search.best_score_)\n",
    "model = random_search.best_estimator_"
   ]
  },
  {
   "cell_type": "markdown",
   "id": "d81e36ae-b1d3-4a85-8cc1-c47f315b4c92",
   "metadata": {},
   "source": [
    "### Curva ROC"
   ]
  },
  {
   "cell_type": "code",
   "execution_count": null,
   "id": "a418a928-5514-47b9-8aca-c118b9dd9ef7",
   "metadata": {},
   "outputs": [],
   "source": [
    "cv = model_selection.StratifiedKFold(n_splits=10, shuffle=True)\n",
    "tprs, aucs = [], []\n",
    "mean_fpr = np.linspace(0,1,100)\n",
    "fig = plt.figure(figsize=(15,10))\n",
    "i = 1\n",
    "for train, test in cv.split(X_train, y_train):\n",
    "   prediction = model.fit(X_train[train],\n",
    "                y_train[train]).predict_proba(X_train[test])\n",
    "   fpr, tpr, t = metrics.roc_curve(y_train[test], prediction[:, 1])\n",
    "   tprs.append(scipy.interp(mean_fpr, fpr, tpr))\n",
    "   roc_auc = metrics.auc(fpr, tpr)\n",
    "   aucs.append(roc_auc)\n",
    "   plt.plot(fpr, tpr, lw=2, alpha=0.3, label='ROC fold %d (AUC = %0.2f)' % (i, roc_auc))\n",
    "   i = i+1\n",
    "   \n",
    "plt.plot([0,1], [0,1], linestyle='--', lw=2, color='black')\n",
    "mean_tpr = np.mean(tprs, axis=0)\n",
    "mean_auc = metrics.auc(mean_fpr, mean_tpr)\n",
    "plt.plot(mean_fpr, mean_tpr, color='blue', label=r'Mean ROC (AUC = %0.2f )' % (mean_auc), lw=2, alpha=1)\n",
    "plt.xlabel('False Positive Rate')\n",
    "plt.ylabel('True Positive Rate')\n",
    "plt.title('K-Fold Validation')\n",
    "plt.legend(loc=\"lower right\")"
   ]
  },
  {
   "cell_type": "markdown",
   "id": "69d4a9e2-9c09-4210-b859-8d58cbf17cc8",
   "metadata": {},
   "source": [
    "### Ajuste do modelo"
   ]
  },
  {
   "cell_type": "code",
   "execution_count": null,
   "id": "d0046ccf-4b9d-4f0d-9edb-e33087500062",
   "metadata": {},
   "outputs": [],
   "source": [
    "model.fit(X_train, y_train)"
   ]
  },
  {
   "cell_type": "markdown",
   "id": "348070ae-c950-4d9a-b93c-bc3ab2bbd85a",
   "metadata": {},
   "source": [
    "### Previsão"
   ]
  },
  {
   "cell_type": "code",
   "execution_count": null,
   "id": "b08bc136-cd73-4835-a844-51d1e822bf56",
   "metadata": {},
   "outputs": [],
   "source": [
    "predicted_prob = model.predict_proba(X_test)[:,1]\n",
    "predicted = model.predict(X_test)"
   ]
  },
  {
   "cell_type": "markdown",
   "id": "6bb96fc0-c2fe-4dac-9220-0cb7f13b0603",
   "metadata": {},
   "source": [
    "## Avaliação do Modelo"
   ]
  },
  {
   "cell_type": "markdown",
   "id": "5ded30fe-a007-4267-998e-80c4102765aa",
   "metadata": {},
   "source": [
    "### Acuracia e Auc"
   ]
  },
  {
   "cell_type": "code",
   "execution_count": null,
   "id": "f9ce5f31-46a3-468d-b59e-33e646b5b18e",
   "metadata": {},
   "outputs": [],
   "source": [
    "accuracy = metrics.accuracy_score(y_test, predicted)\n",
    "auc = metrics.roc_auc_score(y_test, predicted_prob)"
   ]
  },
  {
   "cell_type": "markdown",
   "id": "084ebd96-c8a0-4127-a4bd-870f4da40997",
   "metadata": {},
   "source": [
    "### Precisão e Recall "
   ]
  },
  {
   "cell_type": "code",
   "execution_count": null,
   "id": "baac2c9f-2471-4385-af0e-502ed7050e1b",
   "metadata": {},
   "outputs": [],
   "source": [
    "recall = metrics.recall_score(y_test, predicted)\n",
    "precision = metrics.precision_score(y_test, predicted)\n",
    "print(metrics.classification_report(y_test, predicted, target_names=[str(i) for i in np.unique(y_test)]))"
   ]
  },
  {
   "cell_type": "markdown",
   "id": "646f8f72-0d88-4f37-aa3d-e488c460e487",
   "metadata": {
    "tags": []
   },
   "source": [
    "### Matriz de Confusão"
   ]
  },
  {
   "cell_type": "code",
   "execution_count": null,
   "id": "31668876-63e3-49c9-804c-87fa668e7dff",
   "metadata": {},
   "outputs": [],
   "source": [
    "classes = np.unique(y_test)\n",
    "fig, ax = plt.subplots()\n",
    "cm = metrics.confusion_matrix(y_test, predicted, labels=classes)"
   ]
  }
 ],
 "metadata": {
  "kernelspec": {
   "display_name": "Python 3 (ipykernel)",
   "language": "python",
   "name": "python3"
  },
  "language_info": {
   "codemirror_mode": {
    "name": "ipython",
    "version": 3
   },
   "file_extension": ".py",
   "mimetype": "text/x-python",
   "name": "python",
   "nbconvert_exporter": "python",
   "pygments_lexer": "ipython3",
   "version": "3.10.1"
  }
 },
 "nbformat": 4,
 "nbformat_minor": 5
}
