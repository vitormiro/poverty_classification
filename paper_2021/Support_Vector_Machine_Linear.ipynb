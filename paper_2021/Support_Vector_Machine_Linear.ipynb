{
 "cells": [
  {
   "cell_type": "markdown",
   "id": "4b0fb8b0-feb7-48fb-8bf1-afca20743124",
   "metadata": {},
   "source": [
    "# Support Vector Machine"
   ]
  },
  {
   "cell_type": "markdown",
   "id": "7964894d-ceb2-48fa-8bd4-8f97c26dc03b",
   "metadata": {},
   "source": [
    "## Bibliotecas "
   ]
  },
  {
   "cell_type": "code",
   "execution_count": 1,
   "id": "9086babe-25e8-499d-8fd6-a49652205415",
   "metadata": {},
   "outputs": [],
   "source": [
    "import pandas as pd \n",
    "import numpy as np \n",
    "import scipy \n",
    "import _pickle as cPickle\n",
    "import matplotlib.pyplot as plt \n",
    "import seaborn as sns \n",
    "from sklearn.model_selection import GridSearchCV\n",
    "from sklearn.svm import SVC\n",
    "from sklearn.metrics import classification_report,confusion_matrix,mean_squared_error,roc_curve,accuracy_score,roc_auc_score # Metricas de performance \n",
    "import warnings\n",
    "warnings.filterwarnings('ignore')"
   ]
  },
  {
   "cell_type": "markdown",
   "id": "573226e2-cbb2-4eac-ad9e-43d643fbe26f",
   "metadata": {},
   "source": [
    "## Importando dados"
   ]
  },
  {
   "cell_type": "code",
   "execution_count": 2,
   "id": "536b8617-f93e-47fd-8760-df999535d71c",
   "metadata": {},
   "outputs": [],
   "source": [
    "with open(r\"poverty.pickle\", \"rb\") as input_file:\n",
    "    data = cPickle.load(input_file)"
   ]
  },
  {
   "cell_type": "markdown",
   "id": "027a273c-9467-4e3b-8ec4-099072192c92",
   "metadata": {},
   "source": [
    "### Importando os conjuntos de treino e teste"
   ]
  },
  {
   "cell_type": "code",
   "execution_count": 3,
   "id": "e9500269-3081-49a1-8ef8-a41d2d3744ba",
   "metadata": {},
   "outputs": [],
   "source": [
    "X_train,X_test,y_train,y_test = data['X_train'],data['X_test'],data['y_train'],data['y_test']"
   ]
  },
  {
   "cell_type": "markdown",
   "id": "90475e57-c01c-4f66-bcd2-9e1ea0eb1f3e",
   "metadata": {},
   "source": [
    "## Support Vector Machine - Linear"
   ]
  },
  {
   "cell_type": "code",
   "execution_count": 4,
   "id": "452b036e-3409-45bb-b442-c457e6529a3d",
   "metadata": {},
   "outputs": [],
   "source": [
    "model = SVC()"
   ]
  },
  {
   "cell_type": "markdown",
   "id": "999372d7-da88-4f24-baff-cacb3bf6199a",
   "metadata": {},
   "source": [
    "### Definindo  Hiperparametros"
   ]
  },
  {
   "cell_type": "code",
   "execution_count": 5,
   "id": "96120f6c-4c76-4d80-b8a9-2f53f69361cc",
   "metadata": {},
   "outputs": [],
   "source": [
    "param_grid = [{\"kernel\":[\"linear\",\"sigmoid\",'rbf','poly'], \"C\": [1, 10, 100, 1000]}]"
   ]
  },
  {
   "cell_type": "markdown",
   "id": "8a6366ab-d577-4543-9ca0-a578554b2e5e",
   "metadata": {
    "jp-MarkdownHeadingCollapsed": true,
    "tags": []
   },
   "source": [
    "### Aplicando Cross Validation"
   ]
  },
  {
   "cell_type": "code",
   "execution_count": null,
   "id": "83a11c6d-fb52-47d2-aeac-b1929b4820f4",
   "metadata": {
    "tags": []
   },
   "outputs": [],
   "source": [
    "svm_linear = GridSearchCV(model,param_grid,cv=5)\n",
    "svm_linear.fit(X_train,y_train)\n",
    "model = svm_linear.best_estimator_"
   ]
  },
  {
   "cell_type": "code",
   "execution_count": null,
   "id": "f5d585eb-83d5-478d-9112-b789b7367f99",
   "metadata": {},
   "outputs": [],
   "source": [
    "print(f\"Tuned Logistic Regression Parameter: {svm_linear.best_params_}\")\n",
    "print(f\"Tuned Logistic Regression Accuracy: {svm_linear.best_score_}\")"
   ]
  },
  {
   "cell_type": "markdown",
   "id": "3604b540-9ffd-4149-ac64-6fd878aff47f",
   "metadata": {},
   "source": [
    "### Ajuste do Modelos "
   ]
  },
  {
   "cell_type": "code",
   "execution_count": null,
   "id": "654c491e-09ec-4f55-a2fd-a3fab31e1f3c",
   "metadata": {},
   "outputs": [],
   "source": [
    "model.fit(X_train, y_train)"
   ]
  },
  {
   "cell_type": "markdown",
   "id": "79b02033-e9c9-4619-abc7-e8f4911ad963",
   "metadata": {},
   "source": [
    "### Previsão "
   ]
  },
  {
   "cell_type": "code",
   "execution_count": null,
   "id": "b03dcba6-2d08-47a9-afa3-ed8e5c34241c",
   "metadata": {},
   "outputs": [],
   "source": [
    "predicted = model.predict(X_test)"
   ]
  },
  {
   "cell_type": "markdown",
   "id": "137b3093-4f89-42ca-b5b3-8124c7a1039e",
   "metadata": {},
   "source": [
    "### Curva Roc"
   ]
  },
  {
   "cell_type": "code",
   "execution_count": null,
   "id": "9de4d544-f4f2-4ead-abaa-5d8216d59531",
   "metadata": {},
   "outputs": [],
   "source": [
    "fpr, tpr, threshold = roc_curve(y_test, predicted)"
   ]
  },
  {
   "cell_type": "markdown",
   "id": "bd073b35-6b3e-4a86-947c-74281322edad",
   "metadata": {},
   "source": [
    "## Avaliação do Modelo"
   ]
  },
  {
   "cell_type": "markdown",
   "id": "5bf683c8-b856-499a-8b93-68d66a2ff022",
   "metadata": {},
   "source": [
    "### Acuracia e Auc"
   ]
  },
  {
   "cell_type": "code",
   "execution_count": null,
   "id": "e89286d0-42d1-4474-b9da-7931cf3a8a2a",
   "metadata": {},
   "outputs": [],
   "source": [
    "accuracy = accuracy_score(y_test, predicted)\n",
    "#auc = roc_auc_score(y_test, predicted_prob)"
   ]
  },
  {
   "cell_type": "markdown",
   "id": "cda9cd23-5403-4260-936f-f48a918f9ebe",
   "metadata": {},
   "source": [
    "### Matriz de confusão"
   ]
  },
  {
   "cell_type": "code",
   "execution_count": null,
   "id": "5548ea21-c8be-4776-b25d-8c0286dec6b9",
   "metadata": {},
   "outputs": [],
   "source": [
    "matriz_confusão = confusion_matrix(y_test, predicted)\n",
    "matriz_confusão"
   ]
  },
  {
   "cell_type": "markdown",
   "id": "e07711df-cf88-467b-bf38-1a583514622f",
   "metadata": {},
   "source": [
    "### Classification_report\n"
   ]
  },
  {
   "cell_type": "code",
   "execution_count": null,
   "id": "4473a5aa-c6a2-4d32-ba5f-f429fb2d8ba5",
   "metadata": {},
   "outputs": [],
   "source": [
    "metricas = classification_report(y_test, predicted)\n",
    "print(metricas)"
   ]
  },
  {
   "cell_type": "markdown",
   "id": "163a9418-ac9e-4bc3-ab6c-513e5e121805",
   "metadata": {},
   "source": [
    "### Ajuste do Modelo"
   ]
  },
  {
   "cell_type": "code",
   "execution_count": null,
   "id": "47c09c52-b13e-4bc7-8190-eed34e789a14",
   "metadata": {},
   "outputs": [],
   "source": [
    "model = LinearSVC()"
   ]
  },
  {
   "cell_type": "code",
   "execution_count": null,
   "id": "66b2d011-1dc7-4ca6-ae54-b2d3a7134829",
   "metadata": {},
   "outputs": [],
   "source": [
    "param_grid = [{\"gamma\": [1e-3, 1e-4], \"C\": [1, 10, 100, 1000]}]"
   ]
  }
 ],
 "metadata": {
  "kernelspec": {
   "display_name": "Python 3 (ipykernel)",
   "language": "python",
   "name": "python3"
  },
  "language_info": {
   "codemirror_mode": {
    "name": "ipython",
    "version": 3
   },
   "file_extension": ".py",
   "mimetype": "text/x-python",
   "name": "python",
   "nbconvert_exporter": "python",
   "pygments_lexer": "ipython3",
   "version": "3.10.1"
  }
 },
 "nbformat": 4,
 "nbformat_minor": 5
}
