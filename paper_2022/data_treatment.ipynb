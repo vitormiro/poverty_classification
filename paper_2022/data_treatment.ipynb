{
 "cells": [
  {
   "cell_type": "markdown",
   "id": "3dd8c19f-c36b-4557-aa6a-0e87e57ea2f0",
   "metadata": {},
   "source": [
    "# Tratamento dos dados "
   ]
  },
  {
   "cell_type": "markdown",
   "id": "41821a2b-e875-4a0a-8c1a-2789a69f1f7a",
   "metadata": {},
   "source": [
    "## Bibliotecas"
   ]
  },
  {
   "cell_type": "code",
   "execution_count": 1,
   "id": "fbb21e57-2a0f-4763-a7f2-9ffda1f6da6e",
   "metadata": {},
   "outputs": [],
   "source": [
    "import pandas as pd \n",
    "import numpy as np \n",
    "import scipy \n",
    "import _pickle as cPickle\n",
    "from sklearn import model_selection, preprocessing, feature_selection, ensemble, linear_model, metrics, decomposition"
   ]
  },
  {
   "cell_type": "markdown",
   "id": "3f5c7301-d525-4583-b5f7-0d8af0b933cd",
   "metadata": {},
   "source": [
    "## Importando os dados"
   ]
  },
  {
   "cell_type": "code",
   "execution_count": 2,
   "id": "7bc3dcee-df95-4bcc-96a3-13592d2fa6f5",
   "metadata": {},
   "outputs": [],
   "source": [
    "df = pd.read_csv('pov19.csv')"
   ]
  },
  {
   "cell_type": "markdown",
   "id": "794b8451-a534-41b2-bfb3-56dc07261a2b",
   "metadata": {},
   "source": [
    "## Limpando os dados"
   ]
  },
  {
   "cell_type": "markdown",
   "id": "b495a206-d68c-4e85-bf79-53ca8f18c13a",
   "metadata": {},
   "source": [
    "### Excluindo colunas"
   ]
  },
  {
   "cell_type": "code",
   "execution_count": 3,
   "id": "9bb670bf-91d3-4664-b384-e51c2c7ca4ef",
   "metadata": {},
   "outputs": [],
   "source": [
    "df = df.drop(['Unnamed: 0', 'pobre_ex'], axis = 1)"
   ]
  },
  {
   "cell_type": "markdown",
   "id": "2e24982a-570f-4d9b-ba16-3b6a265297d4",
   "metadata": {},
   "source": [
    "### Eliminar os missings values"
   ]
  },
  {
   "cell_type": "code",
   "execution_count": 4,
   "id": "e58b0bbd-435f-4b2a-a114-77f05dfa47b1",
   "metadata": {},
   "outputs": [],
   "source": [
    "df = df.dropna(subset=['esgoto_ad'])"
   ]
  },
  {
   "cell_type": "markdown",
   "id": "d80f7b2d-485f-42ff-8243-d526ec6071bc",
   "metadata": {},
   "source": [
    "### Definindo listas de nomes"
   ]
  },
  {
   "cell_type": "markdown",
   "id": "eb6e6aef-9ffc-4a1d-a99f-a3703724527a",
   "metadata": {},
   "source": [
    "#### Definição de uma lista com nomes das variáveis categoricas"
   ]
  },
  {
   "cell_type": "code",
   "execution_count": 5,
   "id": "1c6228ae-c7b1-4662-be38-dc49b7301134",
   "metadata": {},
   "outputs": [],
   "source": [
    "cat_vars = ['area', 'casal', 'genero', 'raca', 'escolaridade', 'atividade', 'aposentadoria', \n",
    "            'dom_tipo', 'agua_adeq', 'esgoto_ad', 'banheiro', 'paredes', 'casa_tipo', \n",
    "            'geladeira', 'maquina_lavar', 'tv', 'computador', 'internet', 'carro', 'moto']"
   ]
  },
  {
   "cell_type": "markdown",
   "id": "15a109d3-ad5e-47e2-9065-92021c9d6db7",
   "metadata": {},
   "source": [
    "#### Definição de uma lista com nomes das variáveis numéricas\n"
   ]
  },
  {
   "cell_type": "code",
   "execution_count": 6,
   "id": "7a925384-cd88-4166-8167-bdd5b982e7b6",
   "metadata": {},
   "outputs": [],
   "source": [
    "num_vars = ['hh_id','idade', 'n_moradores', 'n_criancas', 'n_adultos', 'densidade', 'fone_pc']"
   ]
  },
  {
   "cell_type": "markdown",
   "id": "040fd1a2-0434-4bfd-833e-d81aa4a503c2",
   "metadata": {},
   "source": [
    "### Filtrando colunas \n"
   ]
  },
  {
   "cell_type": "code",
   "execution_count": 7,
   "id": "667e6845-f94e-4594-b736-922a3baeb18a",
   "metadata": {},
   "outputs": [],
   "source": [
    "df = df[['hh_id','pobre', 'area', 'casal', 'genero', 'raca', 'escolaridade', 'atividade', 'aposentadoria', \n",
    "                   'dom_tipo', 'agua_adeq', 'esgoto_ad', 'banheiro', 'paredes', 'casa_tipo', \n",
    "                   'geladeira', 'maquina_lavar', 'tv', 'computador', 'internet', 'carro', 'moto', \n",
    "                   'idade', 'n_moradores', 'n_criancas', 'n_adultos', 'densidade', 'fone_pc']]"
   ]
  },
  {
   "cell_type": "markdown",
   "id": "3754384b-1f17-4b82-98f1-9350d54f0121",
   "metadata": {},
   "source": [
    "### Criando dummy para a variavel e resposta"
   ]
  },
  {
   "cell_type": "code",
   "execution_count": 8,
   "id": "af11715a-fcd8-4e85-b2c7-cb273632570c",
   "metadata": {},
   "outputs": [],
   "source": [
    "df['pobre'] = pd.get_dummies(df.pobre, drop_first=True)\n"
   ]
  },
  {
   "cell_type": "markdown",
   "id": "9889fdfe-e4d9-43cd-80f8-b9722a88bd7d",
   "metadata": {},
   "source": [
    "### Criando Dummy para Regiões"
   ]
  },
  {
   "cell_type": "markdown",
   "id": "e1c643a4-73bf-4aee-bc47-8ad0f4930b73",
   "metadata": {},
   "source": [
    "#### Nordeste"
   ]
  },
  {
   "cell_type": "code",
   "execution_count": 9,
   "id": "c6930eb1-e76f-4f80-a7c6-ce85f495ae3f",
   "metadata": {},
   "outputs": [],
   "source": [
    "nordeste = []\n",
    "for cod in df['hh_id']:\n",
    "    match int(cod/100000000000):\n",
    "        case 21 | 22 | 23 | 24 | 25 | 26 | 27 | 28 | 29 :\n",
    "            nordeste.append(1)\n",
    "        case _:\n",
    "            nordeste.append(0)\n",
    "df['Nordeste'] = nordeste"
   ]
  },
  {
   "cell_type": "markdown",
   "id": "8a506d24-6ef7-43ec-8930-e98af94d9eb0",
   "metadata": {},
   "source": [
    "#### Norte"
   ]
  },
  {
   "cell_type": "code",
   "execution_count": 10,
   "id": "c73164d0-37c3-4c58-82f2-1db16008acf0",
   "metadata": {},
   "outputs": [],
   "source": [
    "norte = []\n",
    "for cod in df['hh_id']:\n",
    "    match int(cod/100000000000):\n",
    "        case 11 | 12 | 13 | 14 | 15 | 16 | 17:\n",
    "            norte.append(1)\n",
    "        case _:\n",
    "            norte.append(0)\n",
    "df['Norte'] = norte"
   ]
  },
  {
   "cell_type": "markdown",
   "id": "e47e8512-74d8-44b4-a488-d81558e1a4b7",
   "metadata": {},
   "source": [
    "#### Sudeste "
   ]
  },
  {
   "cell_type": "code",
   "execution_count": 11,
   "id": "44014a57-17c5-43f4-8f60-e0ba119b7f5b",
   "metadata": {},
   "outputs": [],
   "source": [
    "sudeste = [] \n",
    "for cod in df['hh_id']:\n",
    "    match int(cod/100000000000):\n",
    "        case 31 | 32 | 33 | 34:\n",
    "            sudeste.append(1)\n",
    "        case _:\n",
    "            sudeste.append(0)\n",
    "df['Sudeste'] = sudeste "
   ]
  },
  {
   "cell_type": "markdown",
   "id": "a5ae86d4-3971-4a5d-8f3d-3722c0ec8587",
   "metadata": {},
   "source": [
    "#### Sul "
   ]
  },
  {
   "cell_type": "code",
   "execution_count": 12,
   "id": "f3371736-50fb-4a48-b6ff-4aa987cc077e",
   "metadata": {},
   "outputs": [],
   "source": [
    "sul = [] \n",
    "for cod in df['hh_id']:\n",
    "    match int(cod/100000000000):\n",
    "        case 41 | 42 | 43 :\n",
    "            sul.append(1)\n",
    "        case _:\n",
    "            sul.append(0)\n",
    "df['Sul'] = sul"
   ]
  },
  {
   "cell_type": "markdown",
   "id": "ed2ed17a-5705-4513-bccf-0d7ff1c99655",
   "metadata": {},
   "source": [
    "## Exportando os dados Limpos "
   ]
  },
  {
   "cell_type": "code",
   "execution_count": 13,
   "id": "e401c2fc-7c49-421c-949e-414f5a38cf02",
   "metadata": {},
   "outputs": [],
   "source": [
    "df.to_csv(\"pov19ce_clean.csv\")"
   ]
  },
  {
   "cell_type": "markdown",
   "id": "bc754614-feb7-49aa-a874-518b03691855",
   "metadata": {},
   "source": [
    "## Pre Tratamento "
   ]
  },
  {
   "cell_type": "markdown",
   "id": "96d202f0-16c8-4ce6-be58-367ca5391044",
   "metadata": {},
   "source": [
    "### Divisão da amostra "
   ]
  },
  {
   "cell_type": "code",
   "execution_count": 14,
   "id": "57ba4481-17ca-43ba-aac6-40930e8bacc3",
   "metadata": {},
   "outputs": [],
   "source": [
    "df_train, df_test = model_selection.train_test_split(df, test_size=0.25, stratify= df.pobre, random_state=1)"
   ]
  },
  {
   "cell_type": "markdown",
   "id": "7219145b-f64a-452a-a602-8db32b4032a2",
   "metadata": {},
   "source": [
    "### Ajustar os dados de treino"
   ]
  },
  {
   "cell_type": "code",
   "execution_count": 15,
   "id": "ee1e4bf2-8f74-401d-b757-6bbea23faa70",
   "metadata": {},
   "outputs": [],
   "source": [
    "X_train = df_train.drop('pobre', axis=1)\n",
    "y_train = df_train['pobre']\n",
    "X_test = df_test.drop('pobre',axis=1)\n",
    "y_test = df_test['pobre']"
   ]
  },
  {
   "cell_type": "markdown",
   "id": "f54143da-6b43-4e3b-acfc-ba3c71e4ea19",
   "metadata": {},
   "source": [
    "### Normalizar os dados "
   ]
  },
  {
   "cell_type": "code",
   "execution_count": 16,
   "id": "1c4d299b-5034-4f3f-a1b8-b5ceb10dda81",
   "metadata": {},
   "outputs": [
    {
     "data": {
      "text/html": [
       "<div>\n",
       "<style scoped>\n",
       "    .dataframe tbody tr th:only-of-type {\n",
       "        vertical-align: middle;\n",
       "    }\n",
       "\n",
       "    .dataframe tbody tr th {\n",
       "        vertical-align: top;\n",
       "    }\n",
       "\n",
       "    .dataframe thead th {\n",
       "        text-align: right;\n",
       "    }\n",
       "</style>\n",
       "<table border=\"1\" class=\"dataframe\">\n",
       "  <thead>\n",
       "    <tr style=\"text-align: right;\">\n",
       "      <th></th>\n",
       "      <th>hh_id</th>\n",
       "      <th>area</th>\n",
       "      <th>casal</th>\n",
       "      <th>genero</th>\n",
       "      <th>raca</th>\n",
       "      <th>escolaridade</th>\n",
       "      <th>atividade</th>\n",
       "      <th>aposentadoria</th>\n",
       "      <th>dom_tipo</th>\n",
       "      <th>agua_adeq</th>\n",
       "      <th>...</th>\n",
       "      <th>idade</th>\n",
       "      <th>n_moradores</th>\n",
       "      <th>n_criancas</th>\n",
       "      <th>n_adultos</th>\n",
       "      <th>densidade</th>\n",
       "      <th>fone_pc</th>\n",
       "      <th>Nordeste</th>\n",
       "      <th>Norte</th>\n",
       "      <th>Sudeste</th>\n",
       "      <th>Sul</th>\n",
       "    </tr>\n",
       "  </thead>\n",
       "  <tbody>\n",
       "    <tr>\n",
       "      <th>10412</th>\n",
       "      <td>1500318200608</td>\n",
       "      <td>urbano</td>\n",
       "      <td>casado</td>\n",
       "      <td>mulher</td>\n",
       "      <td>branco</td>\n",
       "      <td>superior completo</td>\n",
       "      <td>ativo ocupado</td>\n",
       "      <td>nao</td>\n",
       "      <td>casa</td>\n",
       "      <td>adequada</td>\n",
       "      <td>...</td>\n",
       "      <td>50</td>\n",
       "      <td>4</td>\n",
       "      <td>0</td>\n",
       "      <td>4</td>\n",
       "      <td>0.666667</td>\n",
       "      <td>1.000000</td>\n",
       "      <td>0</td>\n",
       "      <td>1</td>\n",
       "      <td>0</td>\n",
       "      <td>0</td>\n",
       "    </tr>\n",
       "    <tr>\n",
       "      <th>57424</th>\n",
       "      <td>2800304601108</td>\n",
       "      <td>urbano</td>\n",
       "      <td>solteiro</td>\n",
       "      <td>homem</td>\n",
       "      <td>preto ou pardo</td>\n",
       "      <td>sem instrucao</td>\n",
       "      <td>inativo</td>\n",
       "      <td>nao</td>\n",
       "      <td>casa</td>\n",
       "      <td>adequada</td>\n",
       "      <td>...</td>\n",
       "      <td>80</td>\n",
       "      <td>1</td>\n",
       "      <td>0</td>\n",
       "      <td>1</td>\n",
       "      <td>0.166667</td>\n",
       "      <td>0.000000</td>\n",
       "      <td>1</td>\n",
       "      <td>0</td>\n",
       "      <td>0</td>\n",
       "      <td>0</td>\n",
       "    </tr>\n",
       "    <tr>\n",
       "      <th>46529</th>\n",
       "      <td>2600228141008</td>\n",
       "      <td>urbano</td>\n",
       "      <td>casado</td>\n",
       "      <td>mulher</td>\n",
       "      <td>preto ou pardo</td>\n",
       "      <td>medio completo</td>\n",
       "      <td>ativo ocupado</td>\n",
       "      <td>nao</td>\n",
       "      <td>casa</td>\n",
       "      <td>adequada</td>\n",
       "      <td>...</td>\n",
       "      <td>40</td>\n",
       "      <td>2</td>\n",
       "      <td>0</td>\n",
       "      <td>2</td>\n",
       "      <td>0.333333</td>\n",
       "      <td>1.000000</td>\n",
       "      <td>1</td>\n",
       "      <td>0</td>\n",
       "      <td>0</td>\n",
       "      <td>0</td>\n",
       "    </tr>\n",
       "    <tr>\n",
       "      <th>69558</th>\n",
       "      <td>3100823670207</td>\n",
       "      <td>urbano</td>\n",
       "      <td>casado</td>\n",
       "      <td>homem</td>\n",
       "      <td>preto ou pardo</td>\n",
       "      <td>fundam incompleto</td>\n",
       "      <td>ativo ocupado</td>\n",
       "      <td>nao</td>\n",
       "      <td>casa</td>\n",
       "      <td>adequada</td>\n",
       "      <td>...</td>\n",
       "      <td>58</td>\n",
       "      <td>4</td>\n",
       "      <td>0</td>\n",
       "      <td>4</td>\n",
       "      <td>1.000000</td>\n",
       "      <td>1.000000</td>\n",
       "      <td>0</td>\n",
       "      <td>0</td>\n",
       "      <td>1</td>\n",
       "      <td>0</td>\n",
       "    </tr>\n",
       "    <tr>\n",
       "      <th>71163</th>\n",
       "      <td>3100676560608</td>\n",
       "      <td>urbano</td>\n",
       "      <td>casado</td>\n",
       "      <td>homem</td>\n",
       "      <td>branco</td>\n",
       "      <td>medio completo</td>\n",
       "      <td>inativo</td>\n",
       "      <td>sim</td>\n",
       "      <td>casa</td>\n",
       "      <td>adequada</td>\n",
       "      <td>...</td>\n",
       "      <td>69</td>\n",
       "      <td>3</td>\n",
       "      <td>0</td>\n",
       "      <td>3</td>\n",
       "      <td>0.600000</td>\n",
       "      <td>1.000000</td>\n",
       "      <td>0</td>\n",
       "      <td>0</td>\n",
       "      <td>1</td>\n",
       "      <td>0</td>\n",
       "    </tr>\n",
       "    <tr>\n",
       "      <th>...</th>\n",
       "      <td>...</td>\n",
       "      <td>...</td>\n",
       "      <td>...</td>\n",
       "      <td>...</td>\n",
       "      <td>...</td>\n",
       "      <td>...</td>\n",
       "      <td>...</td>\n",
       "      <td>...</td>\n",
       "      <td>...</td>\n",
       "      <td>...</td>\n",
       "      <td>...</td>\n",
       "      <td>...</td>\n",
       "      <td>...</td>\n",
       "      <td>...</td>\n",
       "      <td>...</td>\n",
       "      <td>...</td>\n",
       "      <td>...</td>\n",
       "      <td>...</td>\n",
       "      <td>...</td>\n",
       "      <td>...</td>\n",
       "      <td>...</td>\n",
       "    </tr>\n",
       "    <tr>\n",
       "      <th>124028</th>\n",
       "      <td>4200730361107</td>\n",
       "      <td>urbano</td>\n",
       "      <td>solteiro</td>\n",
       "      <td>mulher</td>\n",
       "      <td>branco</td>\n",
       "      <td>fundam incompleto</td>\n",
       "      <td>inativo</td>\n",
       "      <td>sim</td>\n",
       "      <td>casa</td>\n",
       "      <td>adequada</td>\n",
       "      <td>...</td>\n",
       "      <td>83</td>\n",
       "      <td>1</td>\n",
       "      <td>0</td>\n",
       "      <td>1</td>\n",
       "      <td>0.166667</td>\n",
       "      <td>0.000000</td>\n",
       "      <td>0</td>\n",
       "      <td>0</td>\n",
       "      <td>0</td>\n",
       "      <td>1</td>\n",
       "    </tr>\n",
       "    <tr>\n",
       "      <th>110725</th>\n",
       "      <td>4101174890707</td>\n",
       "      <td>urbano</td>\n",
       "      <td>solteiro</td>\n",
       "      <td>homem</td>\n",
       "      <td>branco</td>\n",
       "      <td>superior completo</td>\n",
       "      <td>ativo desocupado</td>\n",
       "      <td>nao</td>\n",
       "      <td>casa</td>\n",
       "      <td>adequada</td>\n",
       "      <td>...</td>\n",
       "      <td>29</td>\n",
       "      <td>7</td>\n",
       "      <td>1</td>\n",
       "      <td>6</td>\n",
       "      <td>1.000000</td>\n",
       "      <td>1.000000</td>\n",
       "      <td>0</td>\n",
       "      <td>0</td>\n",
       "      <td>0</td>\n",
       "      <td>1</td>\n",
       "    </tr>\n",
       "    <tr>\n",
       "      <th>142641</th>\n",
       "      <td>5100643111008</td>\n",
       "      <td>rural</td>\n",
       "      <td>casado</td>\n",
       "      <td>homem</td>\n",
       "      <td>branco</td>\n",
       "      <td>fundam incompleto</td>\n",
       "      <td>ativo ocupado</td>\n",
       "      <td>nao</td>\n",
       "      <td>casa</td>\n",
       "      <td>adequada</td>\n",
       "      <td>...</td>\n",
       "      <td>37</td>\n",
       "      <td>4</td>\n",
       "      <td>1</td>\n",
       "      <td>3</td>\n",
       "      <td>0.500000</td>\n",
       "      <td>1.333333</td>\n",
       "      <td>0</td>\n",
       "      <td>0</td>\n",
       "      <td>0</td>\n",
       "      <td>0</td>\n",
       "    </tr>\n",
       "    <tr>\n",
       "      <th>13475</th>\n",
       "      <td>1500844160708</td>\n",
       "      <td>urbano</td>\n",
       "      <td>solteiro</td>\n",
       "      <td>mulher</td>\n",
       "      <td>preto ou pardo</td>\n",
       "      <td>sem instrucao</td>\n",
       "      <td>inativo</td>\n",
       "      <td>sim</td>\n",
       "      <td>casa</td>\n",
       "      <td>inadequada</td>\n",
       "      <td>...</td>\n",
       "      <td>62</td>\n",
       "      <td>1</td>\n",
       "      <td>0</td>\n",
       "      <td>1</td>\n",
       "      <td>0.200000</td>\n",
       "      <td>1.000000</td>\n",
       "      <td>0</td>\n",
       "      <td>1</td>\n",
       "      <td>0</td>\n",
       "      <td>0</td>\n",
       "    </tr>\n",
       "    <tr>\n",
       "      <th>139603</th>\n",
       "      <td>5100714170107</td>\n",
       "      <td>urbano</td>\n",
       "      <td>solteiro</td>\n",
       "      <td>mulher</td>\n",
       "      <td>preto ou pardo</td>\n",
       "      <td>medio completo</td>\n",
       "      <td>ativo ocupado</td>\n",
       "      <td>nao</td>\n",
       "      <td>casa</td>\n",
       "      <td>adequada</td>\n",
       "      <td>...</td>\n",
       "      <td>43</td>\n",
       "      <td>2</td>\n",
       "      <td>0</td>\n",
       "      <td>2</td>\n",
       "      <td>0.400000</td>\n",
       "      <td>1.000000</td>\n",
       "      <td>0</td>\n",
       "      <td>0</td>\n",
       "      <td>0</td>\n",
       "      <td>0</td>\n",
       "    </tr>\n",
       "  </tbody>\n",
       "</table>\n",
       "<p>111531 rows × 31 columns</p>\n",
       "</div>"
      ],
      "text/plain": [
       "                hh_id    area     casal  genero            raca  \\\n",
       "10412   1500318200608  urbano    casado  mulher          branco   \n",
       "57424   2800304601108  urbano  solteiro   homem  preto ou pardo   \n",
       "46529   2600228141008  urbano    casado  mulher  preto ou pardo   \n",
       "69558   3100823670207  urbano    casado   homem  preto ou pardo   \n",
       "71163   3100676560608  urbano    casado   homem          branco   \n",
       "...               ...     ...       ...     ...             ...   \n",
       "124028  4200730361107  urbano  solteiro  mulher          branco   \n",
       "110725  4101174890707  urbano  solteiro   homem          branco   \n",
       "142641  5100643111008   rural    casado   homem          branco   \n",
       "13475   1500844160708  urbano  solteiro  mulher  preto ou pardo   \n",
       "139603  5100714170107  urbano  solteiro  mulher  preto ou pardo   \n",
       "\n",
       "             escolaridade         atividade aposentadoria dom_tipo  \\\n",
       "10412   superior completo     ativo ocupado           nao     casa   \n",
       "57424       sem instrucao           inativo           nao     casa   \n",
       "46529      medio completo     ativo ocupado           nao     casa   \n",
       "69558   fundam incompleto     ativo ocupado           nao     casa   \n",
       "71163      medio completo           inativo           sim     casa   \n",
       "...                   ...               ...           ...      ...   \n",
       "124028  fundam incompleto           inativo           sim     casa   \n",
       "110725  superior completo  ativo desocupado           nao     casa   \n",
       "142641  fundam incompleto     ativo ocupado           nao     casa   \n",
       "13475       sem instrucao           inativo           sim     casa   \n",
       "139603     medio completo     ativo ocupado           nao     casa   \n",
       "\n",
       "         agua_adeq  ... idade n_moradores n_criancas n_adultos densidade  \\\n",
       "10412     adequada  ...    50           4          0         4  0.666667   \n",
       "57424     adequada  ...    80           1          0         1  0.166667   \n",
       "46529     adequada  ...    40           2          0         2  0.333333   \n",
       "69558     adequada  ...    58           4          0         4  1.000000   \n",
       "71163     adequada  ...    69           3          0         3  0.600000   \n",
       "...            ...  ...   ...         ...        ...       ...       ...   \n",
       "124028    adequada  ...    83           1          0         1  0.166667   \n",
       "110725    adequada  ...    29           7          1         6  1.000000   \n",
       "142641    adequada  ...    37           4          1         3  0.500000   \n",
       "13475   inadequada  ...    62           1          0         1  0.200000   \n",
       "139603    adequada  ...    43           2          0         2  0.400000   \n",
       "\n",
       "         fone_pc Nordeste Norte Sudeste Sul  \n",
       "10412   1.000000        0     1       0   0  \n",
       "57424   0.000000        1     0       0   0  \n",
       "46529   1.000000        1     0       0   0  \n",
       "69558   1.000000        0     0       1   0  \n",
       "71163   1.000000        0     0       1   0  \n",
       "...          ...      ...   ...     ...  ..  \n",
       "124028  0.000000        0     0       0   1  \n",
       "110725  1.000000        0     0       0   1  \n",
       "142641  1.333333        0     0       0   0  \n",
       "13475   1.000000        0     1       0   0  \n",
       "139603  1.000000        0     0       0   0  \n",
       "\n",
       "[111531 rows x 31 columns]"
      ]
     },
     "execution_count": 16,
     "metadata": {},
     "output_type": "execute_result"
    }
   ],
   "source": [
    "X_train"
   ]
  },
  {
   "cell_type": "code",
   "execution_count": 17,
   "id": "4be313aa-eab1-4cda-a44c-8c4289f0513b",
   "metadata": {},
   "outputs": [],
   "source": [
    "scaler = preprocessing.MinMaxScaler(feature_range=(0,1))\n",
    "X_train[num_vars] = scaler.fit_transform(X_train[num_vars])\n",
    "X_test[num_vars] = scaler.fit_transform(X_test[num_vars])\n"
   ]
  },
  {
   "cell_type": "markdown",
   "id": "c5c617c5-8cf3-45cd-b441-806c0b80e4da",
   "metadata": {},
   "source": [
    "### Criar dummies para variáveis categóricas"
   ]
  },
  {
   "cell_type": "code",
   "execution_count": 18,
   "id": "7647d7b9-938d-4d24-93f8-b2a9d175d8c7",
   "metadata": {
    "tags": []
   },
   "outputs": [],
   "source": [
    "cat_vars = ['area', 'casal', 'genero', 'raca', 'escolaridade', 'atividade', 'aposentadoria', \n",
    "            'dom_tipo', 'agua_adeq', 'esgoto_ad', 'banheiro', 'paredes', 'casa_tipo', \n",
    "            'geladeira', 'maquina_lavar', 'tv', 'computador', 'internet', 'carro', 'moto']\n",
    "X_train = pd.get_dummies(data = X_train, columns = cat_vars)\n",
    "X_test = pd.get_dummies(data = X_test, columns = cat_vars)"
   ]
  },
  {
   "cell_type": "markdown",
   "id": "e29facd8-edb5-46b1-823c-0dfd209f3b8b",
   "metadata": {},
   "source": [
    "## Selecionando os Atributos"
   ]
  },
  {
   "cell_type": "markdown",
   "id": "2108a13f-05f8-474e-80bd-9cc797107010",
   "metadata": {},
   "source": [
    "### Definir atributos e variável de resposta no conjunto de treino"
   ]
  },
  {
   "cell_type": "code",
   "execution_count": 19,
   "id": "5df2b9b4-6674-4c26-b7c8-348688dcfa2c",
   "metadata": {},
   "outputs": [],
   "source": [
    "X = X_train.values\n",
    "y = df_train['pobre'].values\n",
    "feature_names = X_train.columns "
   ]
  },
  {
   "cell_type": "markdown",
   "id": "94e6ba0d-9a4d-4129-af2c-78caae913d86",
   "metadata": {},
   "source": [
    "### Teste Anova"
   ]
  },
  {
   "cell_type": "code",
   "execution_count": 20,
   "id": "0123298f-bd67-427e-b29b-a4da8e176488",
   "metadata": {},
   "outputs": [],
   "source": [
    "selector = feature_selection.SelectKBest(score_func=  \n",
    "               feature_selection.f_classif, k=15).fit(X,y)\n",
    "anova_selected_features = feature_names[selector.get_support()]\n"
   ]
  },
  {
   "cell_type": "markdown",
   "id": "dade0cef-7b62-4e0e-95bd-e76c9c309211",
   "metadata": {},
   "source": [
    "### Lasso"
   ]
  },
  {
   "cell_type": "code",
   "execution_count": 21,
   "id": "1887e7ef-2f77-4562-a0b0-f5f1379316ff",
   "metadata": {},
   "outputs": [],
   "source": [
    "selector = feature_selection.SelectFromModel(estimator= \n",
    "              linear_model.LogisticRegression(C=1, penalty=\"l1\", \n",
    "              solver='liblinear'), max_features=15).fit(X,y)\n",
    "lasso_selected_features = feature_names[selector.get_support()]"
   ]
  },
  {
   "cell_type": "markdown",
   "id": "c9231e0a-7741-488e-9594-b3f64a0579e9",
   "metadata": {},
   "source": [
    "### Relevância de atributos "
   ]
  },
  {
   "cell_type": "code",
   "execution_count": 22,
   "id": "1c8914d3-05dc-4008-9b16-628958e157f6",
   "metadata": {},
   "outputs": [],
   "source": [
    "feature_names = X_train.columns.tolist()"
   ]
  },
  {
   "cell_type": "markdown",
   "id": "e8f3604d-a67f-43ef-ae88-421d0e2acecb",
   "metadata": {},
   "source": [
    "### Importância dos atributos"
   ]
  },
  {
   "cell_type": "code",
   "execution_count": 23,
   "id": "eb964004-06cf-48ba-a8ec-2753b90fdd28",
   "metadata": {},
   "outputs": [],
   "source": [
    "model = ensemble.RandomForestClassifier(n_estimators=100,\n",
    "                      criterion=\"entropy\", random_state=0)\n",
    "model.fit(X,y)\n",
    "importances = model.feature_importances_"
   ]
  },
  {
   "cell_type": "code",
   "execution_count": 24,
   "id": "93702640-4411-41d2-b183-c1c7236b6d7c",
   "metadata": {},
   "outputs": [],
   "source": [
    "df_importances = pd.DataFrame({\"IMPORTANCE\":importances, \"VARIABLE\":feature_names}).sort_values(\"IMPORTANCE\", ascending=False)\n",
    "df_importances['cumsum'] = df_importances['IMPORTANCE'].cumsum(axis=0)\n",
    "df_importances = df_importances.set_index(\"VARIABLE\")"
   ]
  },
  {
   "cell_type": "markdown",
   "id": "fa2b0642-f124-4a96-afb4-9afb9b84bb3c",
   "metadata": {},
   "source": [
    "## Exportando os dataframes tratados"
   ]
  },
  {
   "cell_type": "markdown",
   "id": "ce58caaa-393b-40a3-a03e-e239c3281538",
   "metadata": {},
   "source": [
    "### Criando dicionario com valores exportados"
   ]
  },
  {
   "cell_type": "code",
   "execution_count": 25,
   "id": "c0ea0383-8910-487e-b281-d2f74b1b1125",
   "metadata": {},
   "outputs": [],
   "source": [
    "output = {\n",
    "    'X_train':X_train,\n",
    "    'X_test':X_test,\n",
    "    'y_train':y_train,\n",
    "    'y_test':y_test,\n",
    "    'dataframe':df,\n",
    "    'Anova_features':anova_selected_features,\n",
    "    'Lasso_features':lasso_selected_features,\n",
    "    'Random_Forest':model,\n",
    "    'Importances':df_importances\n",
    "}"
   ]
  },
  {
   "cell_type": "markdown",
   "id": "3fb28a90-3c78-48cb-bc03-8ee828542631",
   "metadata": {},
   "source": [
    "### Exportando os outputs"
   ]
  },
  {
   "cell_type": "code",
   "execution_count": 26,
   "id": "554e5b1c-1e80-4880-a2cf-918ce0ddbbca",
   "metadata": {},
   "outputs": [],
   "source": [
    "with open(r\"poverty.pickle\", \"wb\") as output_file:\n",
    "   ...:     cPickle.dump(output, output_file)"
   ]
  }
 ],
 "metadata": {
  "kernelspec": {
   "display_name": "Python 3 (ipykernel)",
   "language": "python",
   "name": "python3"
  },
  "language_info": {
   "codemirror_mode": {
    "name": "ipython",
    "version": 3
   },
   "file_extension": ".py",
   "mimetype": "text/x-python",
   "name": "python",
   "nbconvert_exporter": "python",
   "pygments_lexer": "ipython3",
   "version": "3.10.2"
  }
 },
 "nbformat": 4,
 "nbformat_minor": 5
}
