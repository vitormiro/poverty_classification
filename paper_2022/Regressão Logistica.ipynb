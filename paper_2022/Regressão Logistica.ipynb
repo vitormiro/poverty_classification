{
 "cells": [
  {
   "cell_type": "markdown",
   "id": "8d20e4fa-95bf-4263-9114-8baa09401ff1",
   "metadata": {},
   "source": [
    "# Regressão Logistica "
   ]
  },
  {
   "cell_type": "markdown",
   "id": "37ecfaf3-a706-43f4-8cd0-685dbe4dd2d2",
   "metadata": {},
   "source": [
    "## Bibliotecas"
   ]
  },
  {
   "cell_type": "code",
   "execution_count": 21,
   "id": "c7628827-8faf-4028-b3eb-c9ac0b27783c",
   "metadata": {},
   "outputs": [],
   "source": [
    "import pandas as pd \n",
    "import numpy as np \n",
    "import scipy \n",
    "import _pickle as cPickle \n",
    "import matplotlib.pyplot as plt \n",
    "import seaborn as sns\n",
    "from sklearn.linear_model import LogisticRegression\n",
    "from sklearn.model_selection import GridSearchCV\n",
    "from sklearn.metrics import classification_report,confusion_matrix,mean_squared_error,roc_curve,accuracy_score,roc_auc_score# Metricas de performance \n",
    "import warnings\n",
    "warnings.filterwarnings('ignore')"
   ]
  },
  {
   "cell_type": "markdown",
   "id": "951a1a7b-21d7-43bb-901a-10f22696ed73",
   "metadata": {
    "tags": []
   },
   "source": [
    "## Importando dados"
   ]
  },
  {
   "cell_type": "code",
   "execution_count": 2,
   "id": "24bee4ec-2acb-459a-abce-dc9eb3445f38",
   "metadata": {},
   "outputs": [],
   "source": [
    "with open(r\"poverty.pickle\", \"rb\") as input_file:\n",
    "    data = cPickle.load(input_file)"
   ]
  },
  {
   "cell_type": "markdown",
   "id": "3a809291-4c97-4cab-bfcb-30cac318ae2c",
   "metadata": {},
   "source": [
    "### Importando os conjuntos de treino e teste"
   ]
  },
  {
   "cell_type": "code",
   "execution_count": 3,
   "id": "d63c90fb-c682-4e6c-95ce-81d09215d8e2",
   "metadata": {},
   "outputs": [],
   "source": [
    "X_train,X_test,y_train,y_test = data['X_train'],data['X_test'],data['y_train'],data['y_test']"
   ]
  },
  {
   "cell_type": "markdown",
   "id": "3781b781-cb92-4cfc-867b-a1287680f521",
   "metadata": {},
   "source": [
    "## Classificador Logistico"
   ]
  },
  {
   "cell_type": "markdown",
   "id": "d2aca4e8-314a-4089-b25d-ea09a55ca232",
   "metadata": {},
   "source": [
    "### Modelo"
   ]
  },
  {
   "cell_type": "code",
   "execution_count": 4,
   "id": "8c41539c-ae74-49aa-97cf-274f9a3f062c",
   "metadata": {},
   "outputs": [],
   "source": [
    "model = LogisticRegression()"
   ]
  },
  {
   "cell_type": "markdown",
   "id": "349087fe-8ff8-416e-a3bb-b04ed295d430",
   "metadata": {},
   "source": [
    "### Definindo Hiperparametros"
   ]
  },
  {
   "cell_type": "code",
   "execution_count": 5,
   "id": "c2ff8fdd-6560-4d3b-8b25-7a3eb26e1490",
   "metadata": {},
   "outputs": [],
   "source": [
    "param_grid = {'C':np.logspace(-5,6,10),'penalty':['l1','l2']}"
   ]
  },
  {
   "cell_type": "markdown",
   "id": "471d9ab6-a2f5-44db-b267-af1d635bee7e",
   "metadata": {},
   "source": [
    "### Aplicando Cross Validation"
   ]
  },
  {
   "cell_type": "code",
   "execution_count": 6,
   "id": "aa75f4b8-9580-4c25-bd81-b6937901bb1c",
   "metadata": {},
   "outputs": [],
   "source": [
    "logit_cv = GridSearchCV(model,param_grid,cv=5)\n",
    "logit_cv.fit(X_train, y_train)\n",
    "model = logit_cv.best_estimator_"
   ]
  },
  {
   "cell_type": "code",
   "execution_count": 7,
   "id": "5ac8d119-2373-464d-afba-d8f48810fdb9",
   "metadata": {},
   "outputs": [
    {
     "name": "stdout",
     "output_type": "stream",
     "text": [
      "Tuned Logistic Regression Parameter: {'C': 215.44346900318865, 'penalty': 'l2'}\n",
      "Tuned Logistic Regression Accuracy: 0.8181812348108524\n"
     ]
    }
   ],
   "source": [
    "print(f\"Tuned Logistic Regression Parameter: {logit_cv.best_params_}\")\n",
    "print(f\"Tuned Logistic Regression Accuracy: {logit_cv.best_score_}\")"
   ]
  },
  {
   "cell_type": "markdown",
   "id": "9fb9aefd-65f9-4559-b011-363523090593",
   "metadata": {
    "tags": []
   },
   "source": [
    "### Ajuste do Modelo"
   ]
  },
  {
   "cell_type": "code",
   "execution_count": 8,
   "id": "9f1d3a19-0ae5-4831-96fc-0fecf24c6ac8",
   "metadata": {},
   "outputs": [
    {
     "data": {
      "text/plain": [
       "LogisticRegression(C=215.44346900318865)"
      ]
     },
     "execution_count": 8,
     "metadata": {},
     "output_type": "execute_result"
    }
   ],
   "source": [
    "model.fit(X_train, y_train)"
   ]
  },
  {
   "cell_type": "markdown",
   "id": "42e0256f-4035-49a2-bc9c-1f7f08621f09",
   "metadata": {},
   "source": [
    "### Previsão "
   ]
  },
  {
   "cell_type": "code",
   "execution_count": 10,
   "id": "df7b508d-7dbd-4e33-8cf3-2eb051ce462f",
   "metadata": {},
   "outputs": [],
   "source": [
    "predicted_prob = model.predict_proba(X_test)[:,1]\n",
    "predicted = model.predict(X_test)"
   ]
  },
  {
   "cell_type": "markdown",
   "id": "6242b8f4-1dc3-4888-951d-b632878c301a",
   "metadata": {},
   "source": [
    "### Curva ROC"
   ]
  },
  {
   "cell_type": "code",
   "execution_count": 30,
   "id": "ce5808ff-b36a-41d1-b655-2fcd6810f922",
   "metadata": {},
   "outputs": [],
   "source": [
    "fpr, tpr, threshold = roc_curve(y_test, predicted)"
   ]
  },
  {
   "cell_type": "markdown",
   "id": "c020ffcf-7c6f-47ea-9763-50211e60a043",
   "metadata": {
    "tags": []
   },
   "source": [
    "## Avaliação do Modelo"
   ]
  },
  {
   "cell_type": "markdown",
   "id": "157dd34a-b360-44e4-a4a5-a7e15cce0f25",
   "metadata": {},
   "source": [
    "### Acuracia e Auc "
   ]
  },
  {
   "cell_type": "code",
   "execution_count": 20,
   "id": "375c042d-e397-4b88-916c-427fabb0c6f5",
   "metadata": {},
   "outputs": [],
   "source": [
    "accuracy = accuracy_score(y_test, predicted)\n",
    "auc = roc_auc_score(y_test, predicted_prob)"
   ]
  },
  {
   "cell_type": "markdown",
   "id": "e6dcf632-95e0-4dd4-876c-fa9ce9854d9d",
   "metadata": {
    "tags": []
   },
   "source": [
    "### Matriz de confusão"
   ]
  },
  {
   "cell_type": "code",
   "execution_count": 13,
   "id": "4e11e67b-fdb6-49c7-b974-62cefcae0f83",
   "metadata": {},
   "outputs": [
    {
     "data": {
      "text/plain": [
       "array([[959, 208],\n",
       "       [142, 528]])"
      ]
     },
     "execution_count": 13,
     "metadata": {},
     "output_type": "execute_result"
    }
   ],
   "source": [
    "matriz_confusão = confusion_matrix(y_test, predicted)\n",
    "matriz_confusão"
   ]
  },
  {
   "cell_type": "markdown",
   "id": "d0d9b8af-c7a1-4647-8155-5e729d346504",
   "metadata": {},
   "source": [
    "### Classification_report"
   ]
  },
  {
   "cell_type": "code",
   "execution_count": 15,
   "id": "070035f3-2ef0-449b-8e75-31b944384d82",
   "metadata": {},
   "outputs": [
    {
     "name": "stdout",
     "output_type": "stream",
     "text": [
      "              precision    recall  f1-score   support\n",
      "\n",
      "           0       0.87      0.82      0.85      1167\n",
      "           1       0.72      0.79      0.75       670\n",
      "\n",
      "    accuracy                           0.81      1837\n",
      "   macro avg       0.79      0.80      0.80      1837\n",
      "weighted avg       0.81      0.81      0.81      1837\n",
      "\n"
     ]
    }
   ],
   "source": [
    "metricas = classification_report(y_test, predicted)\n",
    "print(metricas)"
   ]
  }
 ],
 "metadata": {
  "kernelspec": {
   "display_name": "Python 3 (ipykernel)",
   "language": "python",
   "name": "python3"
  },
  "language_info": {
   "codemirror_mode": {
    "name": "ipython",
    "version": 3
   },
   "file_extension": ".py",
   "mimetype": "text/x-python",
   "name": "python",
   "nbconvert_exporter": "python",
   "pygments_lexer": "ipython3",
   "version": "3.10.1"
  }
 },
 "nbformat": 4,
 "nbformat_minor": 5
}
