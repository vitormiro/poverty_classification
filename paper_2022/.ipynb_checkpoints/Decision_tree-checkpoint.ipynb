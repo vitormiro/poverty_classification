{
 "cells": [
  {
   "cell_type": "markdown",
   "id": "de737bbb-25c1-40cd-a187-b0b47c7f2755",
   "metadata": {},
   "source": [
    "# Decision Tree"
   ]
  },
  {
   "cell_type": "markdown",
   "id": "646382c4-7857-4c82-8328-164a530c4c90",
   "metadata": {},
   "source": [
    "## Biblioteca"
   ]
  },
  {
   "cell_type": "code",
   "execution_count": 9,
   "id": "44963df2-79b4-4f62-9212-b315e34e1803",
   "metadata": {},
   "outputs": [],
   "source": [
    "import pandas as pd \n",
    "import numpy as np \n",
    "import scipy \n",
    "import _pickle as cPickle \n",
    "import matplotlib.pyplot as plt \n",
    "import seaborn as sns\n",
    "from sklearn.tree import DecisionTreeClassifier\n",
    "from sklearn.model_selection import GridSearchCV\n",
    "from sklearn.metrics import classification_report,confusion_matrix,mean_squared_error,roc_curve,accuracy_score,roc_auc_score# Metricas de performance \n",
    "import warnings\n",
    "warnings.filterwarnings('ignore')"
   ]
  },
  {
   "cell_type": "markdown",
   "id": "f94609f3-22ed-4c0c-8d43-219e9338db60",
   "metadata": {},
   "source": [
    "## Importando dados"
   ]
  },
  {
   "cell_type": "code",
   "execution_count": 10,
   "id": "c5b56e51-f10e-4aa0-bf8a-d8e1b32e649c",
   "metadata": {},
   "outputs": [],
   "source": [
    "with open(r\"poverty.pickle\", \"rb\") as input_file:\n",
    "    data = cPickle.load(input_file)"
   ]
  },
  {
   "cell_type": "markdown",
   "id": "a4f179f8-a259-4db6-9d88-c89cd9906060",
   "metadata": {},
   "source": [
    "### Importando os conjuntos de treino e teste"
   ]
  },
  {
   "cell_type": "code",
   "execution_count": 11,
   "id": "9e58030a-426a-407d-802a-23da1411280e",
   "metadata": {},
   "outputs": [],
   "source": [
    "X_train,X_test,y_train,y_test = data['X_train'],data['X_test'],data['y_train'],data['y_test']"
   ]
  },
  {
   "cell_type": "markdown",
   "id": "a78c4908-45c0-4900-aab8-fc5858c2332e",
   "metadata": {},
   "source": [
    "## Classificador Decision Tree "
   ]
  },
  {
   "cell_type": "markdown",
   "id": "f149d0b0-4f9d-4ccf-8fe5-a5e0b38b5960",
   "metadata": {},
   "source": [
    "### Modelo"
   ]
  },
  {
   "cell_type": "code",
   "execution_count": 13,
   "id": "7fe6d406-56ca-47cf-ab58-2653cce6e952",
   "metadata": {},
   "outputs": [],
   "source": [
    "model = DecisionTreeClassifier()"
   ]
  },
  {
   "cell_type": "markdown",
   "id": "1641310b-1391-44da-a17a-3dd3fb297b31",
   "metadata": {},
   "source": [
    "### Definindo Hiperparametros"
   ]
  },
  {
   "cell_type": "code",
   "execution_count": 18,
   "id": "006b4055-9a36-46f3-a9e9-995126e43679",
   "metadata": {},
   "outputs": [],
   "source": [
    "param_grid = {'criterion':['gini','entropy'],\n",
    "              'splitter':['best','random'],\n",
    "              'max_depth':[2,3,4,5,6,7],\n",
    "              'min_samples_split':[2,4,6,8,10,20,40,60,100], \n",
    "              'min_samples_leaf':[1,3,5,7,9],\n",
    "              'max_features':['auto','sqrt','log2','None'],}\n"
   ]
  },
  {
   "cell_type": "markdown",
   "id": "03c9d6af-ab6f-4f95-bb14-f0b6eba02a70",
   "metadata": {},
   "source": [
    "### Aplicando Cross Validation"
   ]
  },
  {
   "cell_type": "code",
   "execution_count": null,
   "id": "479a6654-32d7-450b-a324-14aed9f971c5",
   "metadata": {},
   "outputs": [],
   "source": [
    "decision_cv = GridSearchCV(model,param_grid,cv=5)\n",
    "decision_cv.fit(X_train, y_train)\n",
    "model = decision_cv.best_estimator_"
   ]
  },
  {
   "cell_type": "code",
   "execution_count": null,
   "id": "50025f31-b520-4bd3-a941-0609edfdf0e5",
   "metadata": {},
   "outputs": [],
   "source": [
    "print(f\"Tuned Logistic Regression Parameter: {decision_cv.best_params_}\")\n",
    "print(f\"Tuned Logistic Regression Accuracy: {decision_cv.best_score_}\")"
   ]
  },
  {
   "cell_type": "markdown",
   "id": "16f54a82-bfdf-4792-a9c6-426f70cb83cc",
   "metadata": {},
   "source": [
    "### Ajuste do Modelo"
   ]
  },
  {
   "cell_type": "code",
   "execution_count": null,
   "id": "c037562d-4afb-4dda-ab94-48c5fa7dba16",
   "metadata": {},
   "outputs": [],
   "source": [
    "model.fit(X_train, y_train)"
   ]
  },
  {
   "cell_type": "markdown",
   "id": "9104089a-aa2e-4ab8-accb-c59ff9fcf7da",
   "metadata": {},
   "source": [
    "### Previsão"
   ]
  },
  {
   "cell_type": "code",
   "execution_count": null,
   "id": "c3f97ed0-f4be-462d-aad9-b921c9a93fd8",
   "metadata": {},
   "outputs": [],
   "source": [
    "predicted_prob = model.predict_proba(X_test)[:,1]\n",
    "predicted = model.predict(X_test)"
   ]
  },
  {
   "cell_type": "markdown",
   "id": "fbd629b0-1e02-4a9f-b336-2ab21ddd7a6d",
   "metadata": {},
   "source": [
    "### Curva ROC"
   ]
  },
  {
   "cell_type": "code",
   "execution_count": null,
   "id": "62d6c484-52cf-4315-bdf8-0d27ae46f1b7",
   "metadata": {},
   "outputs": [],
   "source": [
    "fpr, tpr, threshold = roc_curve(y_test, predicted)"
   ]
  },
  {
   "cell_type": "markdown",
   "id": "b8996aa6-0283-4dee-bf77-b3ce7cb66cd9",
   "metadata": {},
   "source": [
    "## Avaliação do Modelo"
   ]
  },
  {
   "cell_type": "markdown",
   "id": "d2fc70d6-b197-4007-bad2-f96de381f557",
   "metadata": {},
   "source": [
    "### Acuracia e Auc "
   ]
  },
  {
   "cell_type": "code",
   "execution_count": null,
   "id": "e4ede5f6-5e4a-4d51-a57c-8d762e6802d9",
   "metadata": {},
   "outputs": [],
   "source": [
    "accuracy = accuracy_score(y_test, predicted)\n",
    "auc = roc_auc_score(y_test, predicted_prob)"
   ]
  },
  {
   "cell_type": "markdown",
   "id": "131f3736-6ead-4fe5-85cb-d1b90f318bdd",
   "metadata": {},
   "source": [
    "### Matriz de confusão"
   ]
  },
  {
   "cell_type": "code",
   "execution_count": null,
   "id": "7a5aef01-560c-4995-8e87-6a678a7dd3eb",
   "metadata": {},
   "outputs": [],
   "source": [
    "matriz_confusão = confusion_matrix(y_test, predicted)\n",
    "matriz_confusão"
   ]
  },
  {
   "cell_type": "markdown",
   "id": "fca1c59e-42fb-4cc2-95aa-d37b2c383ad6",
   "metadata": {},
   "source": [
    "### Classification_report"
   ]
  },
  {
   "cell_type": "code",
   "execution_count": null,
   "id": "77561a1f-6d9b-4f3a-a37d-f5714a251a62",
   "metadata": {},
   "outputs": [],
   "source": [
    "metricas = classification_report(y_test, predicted)\n",
    "print(metricas)"
   ]
  }
 ],
 "metadata": {
  "kernelspec": {
   "display_name": "Python 3 (ipykernel)",
   "language": "python",
   "name": "python3"
  },
  "language_info": {
   "codemirror_mode": {
    "name": "ipython",
    "version": 3
   },
   "file_extension": ".py",
   "mimetype": "text/x-python",
   "name": "python",
   "nbconvert_exporter": "python",
   "pygments_lexer": "ipython3",
   "version": "3.10.1"
  }
 },
 "nbformat": 4,
 "nbformat_minor": 5
}
