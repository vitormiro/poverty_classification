{
 "cells": [
  {
   "cell_type": "code",
   "execution_count": 1,
   "id": "1ac469df-504c-447c-b355-40500add2a72",
   "metadata": {},
   "outputs": [],
   "source": [
    "# Pacotes \n",
    "import pandas as pd                                                                    # Manipulação de dados\n",
    "import numpy as np                                                                     # Computação matemática \n",
    "import seaborn as sns                                                                  # Plotagem grafica \n",
    "import matplotlib.pyplot as plt                                                        # Plotagem grafica \n",
    "import scipy as sc                                                                     # Computação matemática (estatistica) \n",
    "from sklearn.model_selection import train_test_split                                   # Transformação das amostras de treino e teste\n",
    "from sklearn.neighbors import KNeighborsClassifier,KNeighborsRegressor                 # Modelo de Knn \n",
    "from sklearn.metrics import classification_report,confusion_matrix,mean_squared_error  # Metricas de performance "
   ]
  },
  {
   "cell_type": "code",
   "execution_count": 2,
   "id": "17267a3e-122d-45eb-8b0f-69e78ce23337",
   "metadata": {},
   "outputs": [],
   "source": [
    "# Importando os dados\n",
    "df = pd.read_csv('pov19ce.csv').drop(['Unnamed: 0', 'hh_id', 'pobre_ex'], axis = 1)\n",
    "df = df.dropna(subset=['esgoto_ad'])"
   ]
  },
  {
   "cell_type": "code",
   "execution_count": 3,
   "id": "fceddbf6-ed65-480f-b744-15ee27bddcbd",
   "metadata": {},
   "outputs": [],
   "source": [
    "# Definição de uma lista com nomes das variáveis categoricas\n",
    "cat_vars = ['area', 'casal', 'genero', 'raca', 'escolaridade', 'atividade', 'aposentadoria', \n",
    "            'dom_tipo', 'agua_adeq', 'esgoto_ad', 'banheiro', 'paredes', 'casa_tipo', \n",
    "            'geladeira', 'maquina_lavar', 'tv', 'computador', 'internet', 'carro', 'moto']"
   ]
  },
  {
   "cell_type": "code",
   "execution_count": 4,
   "id": "bbb596ed-e61d-4399-86a4-9a378fd9052b",
   "metadata": {},
   "outputs": [],
   "source": [
    "# Definição de uma lista com nomes das variáveis numéricas\n",
    "num_vars = ['idade', 'n_moradores', 'n_criancas', 'n_adultos', 'densidade', 'fone_pc']"
   ]
  },
  {
   "cell_type": "markdown",
   "id": "a70935dc-a0e8-47a1-989b-e2a64d804a7c",
   "metadata": {},
   "source": [
    "## Pre-processamento"
   ]
  },
  {
   "cell_type": "code",
   "execution_count": 25,
   "id": "36d52b54-cc04-45e1-9fa0-8b596fb4203a",
   "metadata": {
    "tags": []
   },
   "outputs": [],
   "source": [
    "columns = df.columns \n",
    "\n",
    "for column in columns:\n",
    "    if df[column].dtype != 'int64':\n",
    "        try:\n",
    "            df[column] = df[column].astype('int64')\n",
    "        except:\n",
    "            if len(np.unique(df[column])) <= 2:\n",
    "                df[column] = pd.get_dummies(df[column])[np.unique(df[column])[0]]\n",
    "                    "
   ]
  },
  {
   "cell_type": "code",
   "execution_count": 30,
   "id": "02dc62fc-f6eb-4138-9f1f-943296c9858c",
   "metadata": {
    "tags": []
   },
   "outputs": [],
   "source": [
    "X = df.drop(['pobre','escolaridade','atividade','casa_tipo'],axis=1) # TODO: Incluir outras variaveis dummies \n",
    "Y = df['pobre']"
   ]
  },
  {
   "cell_type": "code",
   "execution_count": 32,
   "id": "5ef15664-410d-4d13-a640-df7a482abd15",
   "metadata": {
    "tags": []
   },
   "outputs": [],
   "source": [
    "X_train, X_test, y_train, y_test = train_test_split(X, Y, test_size=0.20)"
   ]
  },
  {
   "cell_type": "code",
   "execution_count": 46,
   "id": "acbd8645-e265-454d-81cc-b837cb3c0cb6",
   "metadata": {},
   "outputs": [],
   "source": [
    "# Calculando o teste de elbow\n",
    "rmse_loop = [] \n",
    "for k in range(0,20):\n",
    "    k = k+1 \n",
    "    model = KNeighborsRegressor(n_neighbors = k)  #TODO: Verificar\n",
    "    model.fit(X_train,y_train)\n",
    "    pred=model.predict(X_test)\n",
    "    error = np.sqrt(mean_squared_error(y_test,pred))\n",
    "    rmse_loop.append(error)"
   ]
  },
  {
   "cell_type": "markdown",
   "id": "a29921b9-904d-4428-90f1-f249e0c495cd",
   "metadata": {},
   "source": [
    "# Criando o classificador"
   ]
  },
  {
   "cell_type": "code",
   "execution_count": 50,
   "id": "6e76a152-80d8-42b7-a5a9-35eb0b2672ad",
   "metadata": {},
   "outputs": [],
   "source": [
    "classifier = KNeighborsClassifier(2)\n",
    "classifier.fit(X_train, y_train)\n",
    "y_pred = classifier.predict(X_test)"
   ]
  },
  {
   "cell_type": "code",
   "execution_count": 53,
   "id": "914e34b6-cf88-4822-a528-939bcd132c06",
   "metadata": {},
   "outputs": [
    {
     "data": {
      "text/plain": [
       "array([[530,   3],\n",
       "       [  8, 929]])"
      ]
     },
     "execution_count": 53,
     "metadata": {},
     "output_type": "execute_result"
    }
   ],
   "source": [
    "matriz_confusão = confusion_matrix(y_test, y_pred)\n",
    "matriz_confusão"
   ]
  },
  {
   "cell_type": "code",
   "execution_count": 55,
   "id": "73b136a1-2203-498a-9cf4-536e48401829",
   "metadata": {},
   "outputs": [
    {
     "name": "stdout",
     "output_type": "stream",
     "text": [
      "              precision    recall  f1-score   support\n",
      "\n",
      "           0       0.99      0.99      0.99       533\n",
      "           1       1.00      0.99      0.99       937\n",
      "\n",
      "    accuracy                           0.99      1470\n",
      "   macro avg       0.99      0.99      0.99      1470\n",
      "weighted avg       0.99      0.99      0.99      1470\n",
      "\n"
     ]
    }
   ],
   "source": [
    "metricas = classification_report(y_test, y_pred)\n",
    "print(metricas)"
   ]
  },
  {
   "cell_type": "code",
   "execution_count": null,
   "id": "4c014197-bdee-4186-bcd3-1c7ed3ac5f15",
   "metadata": {},
   "outputs": [],
   "source": [
    "# Plotando "
   ]
  }
 ],
 "metadata": {
  "kernelspec": {
   "display_name": "Python 3 (ipykernel)",
   "language": "python",
   "name": "python3"
  },
  "language_info": {
   "codemirror_mode": {
    "name": "ipython",
    "version": 3
   },
   "file_extension": ".py",
   "mimetype": "text/x-python",
   "name": "python",
   "nbconvert_exporter": "python",
   "pygments_lexer": "ipython3",
   "version": "3.10.1"
  }
 },
 "nbformat": 4,
 "nbformat_minor": 5
}
